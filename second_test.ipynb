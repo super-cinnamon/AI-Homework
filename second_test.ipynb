{
  "nbformat": 4,
  "nbformat_minor": 0,
  "metadata": {
    "colab": {
      "name": "second_test.ipynb",
      "provenance": [],
      "collapsed_sections": []
    },
    "kernelspec": {
      "name": "python3",
      "display_name": "Python 3"
    },
    "language_info": {
      "name": "python"
    }
  },
  "cells": [
    {
      "cell_type": "code",
      "source": [
        "from google.colab import drive\n",
        "drive.mount('/content/drive')"
      ],
      "metadata": {
        "colab": {
          "base_uri": "https://localhost:8080/"
        },
        "id": "9GSgJK0wHIfJ",
        "outputId": "2a917d6f-4010-492d-cfc4-c598be8c7f33"
      },
      "execution_count": null,
      "outputs": [
        {
          "output_type": "stream",
          "name": "stdout",
          "text": [
            "Drive already mounted at /content/drive; to attempt to forcibly remount, call drive.mount(\"/content/drive\", force_remount=True).\n"
          ]
        }
      ]
    },
    {
      "cell_type": "markdown",
      "source": [
        "# Test 2"
      ],
      "metadata": {
        "id": "6yipxfGTG6kb"
      }
    },
    {
      "cell_type": "markdown",
      "source": [
        "## Question 1"
      ],
      "metadata": {
        "id": "aPK2DQxEG9c2"
      }
    },
    {
      "cell_type": "code",
      "execution_count": null,
      "metadata": {
        "colab": {
          "base_uri": "https://localhost:8080/",
          "height": 206
        },
        "id": "nXxmud3FGq1J",
        "outputId": "cd4e48ff-0e3f-4173-c2cc-2b25aabb93c3"
      },
      "outputs": [
        {
          "output_type": "execute_result",
          "data": {
            "text/plain": [
              "              Name Gender  Age  Grade Absence Bloodtype  Height  Weight\n",
              "0    Jared Diamond      M   23      3       Y         O   165.3    68.2\n",
              "1   Sarah O'Donnel      F   22      2       N        AB   170.1    53.0\n",
              "2     Brian Martin      M   24      4       N         B   175.0    80.1\n",
              "3     David Hassel      M   23      3       N        AB   182.1    85.7\n",
              "4  Clara Rodriquez      F   20      1       Y         A   168.0    49.5"
            ],
            "text/html": [
              "\n",
              "  <div id=\"df-e74db29c-9876-4b28-9925-21aa8dc5415b\">\n",
              "    <div class=\"colab-df-container\">\n",
              "      <div>\n",
              "<style scoped>\n",
              "    .dataframe tbody tr th:only-of-type {\n",
              "        vertical-align: middle;\n",
              "    }\n",
              "\n",
              "    .dataframe tbody tr th {\n",
              "        vertical-align: top;\n",
              "    }\n",
              "\n",
              "    .dataframe thead th {\n",
              "        text-align: right;\n",
              "    }\n",
              "</style>\n",
              "<table border=\"1\" class=\"dataframe\">\n",
              "  <thead>\n",
              "    <tr style=\"text-align: right;\">\n",
              "      <th></th>\n",
              "      <th>Name</th>\n",
              "      <th>Gender</th>\n",
              "      <th>Age</th>\n",
              "      <th>Grade</th>\n",
              "      <th>Absence</th>\n",
              "      <th>Bloodtype</th>\n",
              "      <th>Height</th>\n",
              "      <th>Weight</th>\n",
              "    </tr>\n",
              "  </thead>\n",
              "  <tbody>\n",
              "    <tr>\n",
              "      <th>0</th>\n",
              "      <td>Jared Diamond</td>\n",
              "      <td>M</td>\n",
              "      <td>23</td>\n",
              "      <td>3</td>\n",
              "      <td>Y</td>\n",
              "      <td>O</td>\n",
              "      <td>165.3</td>\n",
              "      <td>68.2</td>\n",
              "    </tr>\n",
              "    <tr>\n",
              "      <th>1</th>\n",
              "      <td>Sarah O'Donnel</td>\n",
              "      <td>F</td>\n",
              "      <td>22</td>\n",
              "      <td>2</td>\n",
              "      <td>N</td>\n",
              "      <td>AB</td>\n",
              "      <td>170.1</td>\n",
              "      <td>53.0</td>\n",
              "    </tr>\n",
              "    <tr>\n",
              "      <th>2</th>\n",
              "      <td>Brian Martin</td>\n",
              "      <td>M</td>\n",
              "      <td>24</td>\n",
              "      <td>4</td>\n",
              "      <td>N</td>\n",
              "      <td>B</td>\n",
              "      <td>175.0</td>\n",
              "      <td>80.1</td>\n",
              "    </tr>\n",
              "    <tr>\n",
              "      <th>3</th>\n",
              "      <td>David Hassel</td>\n",
              "      <td>M</td>\n",
              "      <td>23</td>\n",
              "      <td>3</td>\n",
              "      <td>N</td>\n",
              "      <td>AB</td>\n",
              "      <td>182.1</td>\n",
              "      <td>85.7</td>\n",
              "    </tr>\n",
              "    <tr>\n",
              "      <th>4</th>\n",
              "      <td>Clara Rodriquez</td>\n",
              "      <td>F</td>\n",
              "      <td>20</td>\n",
              "      <td>1</td>\n",
              "      <td>Y</td>\n",
              "      <td>A</td>\n",
              "      <td>168.0</td>\n",
              "      <td>49.5</td>\n",
              "    </tr>\n",
              "  </tbody>\n",
              "</table>\n",
              "</div>\n",
              "      <button class=\"colab-df-convert\" onclick=\"convertToInteractive('df-e74db29c-9876-4b28-9925-21aa8dc5415b')\"\n",
              "              title=\"Convert this dataframe to an interactive table.\"\n",
              "              style=\"display:none;\">\n",
              "        \n",
              "  <svg xmlns=\"http://www.w3.org/2000/svg\" height=\"24px\"viewBox=\"0 0 24 24\"\n",
              "       width=\"24px\">\n",
              "    <path d=\"M0 0h24v24H0V0z\" fill=\"none\"/>\n",
              "    <path d=\"M18.56 5.44l.94 2.06.94-2.06 2.06-.94-2.06-.94-.94-2.06-.94 2.06-2.06.94zm-11 1L8.5 8.5l.94-2.06 2.06-.94-2.06-.94L8.5 2.5l-.94 2.06-2.06.94zm10 10l.94 2.06.94-2.06 2.06-.94-2.06-.94-.94-2.06-.94 2.06-2.06.94z\"/><path d=\"M17.41 7.96l-1.37-1.37c-.4-.4-.92-.59-1.43-.59-.52 0-1.04.2-1.43.59L10.3 9.45l-7.72 7.72c-.78.78-.78 2.05 0 2.83L4 21.41c.39.39.9.59 1.41.59.51 0 1.02-.2 1.41-.59l7.78-7.78 2.81-2.81c.8-.78.8-2.07 0-2.86zM5.41 20L4 18.59l7.72-7.72 1.47 1.35L5.41 20z\"/>\n",
              "  </svg>\n",
              "      </button>\n",
              "      \n",
              "  <style>\n",
              "    .colab-df-container {\n",
              "      display:flex;\n",
              "      flex-wrap:wrap;\n",
              "      gap: 12px;\n",
              "    }\n",
              "\n",
              "    .colab-df-convert {\n",
              "      background-color: #E8F0FE;\n",
              "      border: none;\n",
              "      border-radius: 50%;\n",
              "      cursor: pointer;\n",
              "      display: none;\n",
              "      fill: #1967D2;\n",
              "      height: 32px;\n",
              "      padding: 0 0 0 0;\n",
              "      width: 32px;\n",
              "    }\n",
              "\n",
              "    .colab-df-convert:hover {\n",
              "      background-color: #E2EBFA;\n",
              "      box-shadow: 0px 1px 2px rgba(60, 64, 67, 0.3), 0px 1px 3px 1px rgba(60, 64, 67, 0.15);\n",
              "      fill: #174EA6;\n",
              "    }\n",
              "\n",
              "    [theme=dark] .colab-df-convert {\n",
              "      background-color: #3B4455;\n",
              "      fill: #D2E3FC;\n",
              "    }\n",
              "\n",
              "    [theme=dark] .colab-df-convert:hover {\n",
              "      background-color: #434B5C;\n",
              "      box-shadow: 0px 1px 3px 1px rgba(0, 0, 0, 0.15);\n",
              "      filter: drop-shadow(0px 1px 2px rgba(0, 0, 0, 0.3));\n",
              "      fill: #FFFFFF;\n",
              "    }\n",
              "  </style>\n",
              "\n",
              "      <script>\n",
              "        const buttonEl =\n",
              "          document.querySelector('#df-e74db29c-9876-4b28-9925-21aa8dc5415b button.colab-df-convert');\n",
              "        buttonEl.style.display =\n",
              "          google.colab.kernel.accessAllowed ? 'block' : 'none';\n",
              "\n",
              "        async function convertToInteractive(key) {\n",
              "          const element = document.querySelector('#df-e74db29c-9876-4b28-9925-21aa8dc5415b');\n",
              "          const dataTable =\n",
              "            await google.colab.kernel.invokeFunction('convertToInteractive',\n",
              "                                                     [key], {});\n",
              "          if (!dataTable) return;\n",
              "\n",
              "          const docLinkHtml = 'Like what you see? Visit the ' +\n",
              "            '<a target=\"_blank\" href=https://colab.research.google.com/notebooks/data_table.ipynb>data table notebook</a>'\n",
              "            + ' to learn more about interactive tables.';\n",
              "          element.innerHTML = '';\n",
              "          dataTable['output_type'] = 'display_data';\n",
              "          await google.colab.output.renderOutput(dataTable, element);\n",
              "          const docLink = document.createElement('div');\n",
              "          docLink.innerHTML = docLinkHtml;\n",
              "          element.appendChild(docLink);\n",
              "        }\n",
              "      </script>\n",
              "    </div>\n",
              "  </div>\n",
              "  "
            ]
          },
          "metadata": {},
          "execution_count": 144
        }
      ],
      "source": [
        "import pandas as pd\n",
        "import os\n",
        "\n",
        "df = pd.read_csv('/content/drive/MyDrive/datasets/test/data_studentlist.csv', header='infer')\n",
        "df.head(5)\n"
      ]
    },
    {
      "cell_type": "code",
      "source": [
        "df[df['Gender'] == 'M'].Height.mean()"
      ],
      "metadata": {
        "colab": {
          "base_uri": "https://localhost:8080/"
        },
        "id": "kDY6q7YYH6ju",
        "outputId": "ac50aa62-1f4f-428e-b2ed-93659ed73127"
      },
      "execution_count": null,
      "outputs": [
        {
          "output_type": "execute_result",
          "data": {
            "text/plain": [
              "172.41000000000003"
            ]
          },
          "metadata": {},
          "execution_count": 145
        }
      ]
    },
    {
      "cell_type": "code",
      "source": [
        "df[df['Gender'] == 'F'].Height.mean()"
      ],
      "metadata": {
        "colab": {
          "base_uri": "https://localhost:8080/"
        },
        "id": "YRmYUz9zIYVI",
        "outputId": "3f12acba-0f2f-4100-dad4-28d36e5b296b"
      },
      "execution_count": null,
      "outputs": [
        {
          "output_type": "execute_result",
          "data": {
            "text/plain": [
              "166.64285714285714"
            ]
          },
          "metadata": {},
          "execution_count": 146
        }
      ]
    },
    {
      "cell_type": "code",
      "source": [
        "df[df['Gender'] == 'M'].Weight.mean()"
      ],
      "metadata": {
        "colab": {
          "base_uri": "https://localhost:8080/"
        },
        "id": "cIYkECEcIbJK",
        "outputId": "ff08b452-f38e-49a9-8b9d-dd199343821f"
      },
      "execution_count": null,
      "outputs": [
        {
          "output_type": "execute_result",
          "data": {
            "text/plain": [
              "68.50000000000001"
            ]
          },
          "metadata": {},
          "execution_count": 147
        }
      ]
    },
    {
      "cell_type": "code",
      "source": [
        "df[df['Gender'] == 'F'].Weight.mean()"
      ],
      "metadata": {
        "colab": {
          "base_uri": "https://localhost:8080/"
        },
        "id": "b7mGzqPWIepp",
        "outputId": "c7d09273-801b-4d01-9c2c-ff6e276a12ec"
      },
      "execution_count": null,
      "outputs": [
        {
          "output_type": "execute_result",
          "data": {
            "text/plain": [
              "50.44285714285714"
            ]
          },
          "metadata": {},
          "execution_count": 148
        }
      ]
    },
    {
      "cell_type": "code",
      "source": [
        "df[df['Gender'] == 'M'].Height.max()"
      ],
      "metadata": {
        "colab": {
          "base_uri": "https://localhost:8080/"
        },
        "id": "aw_kxKsPIiJM",
        "outputId": "bc005cb8-73a4-47e0-c30b-da18634081ff"
      },
      "execution_count": null,
      "outputs": [
        {
          "output_type": "execute_result",
          "data": {
            "text/plain": [
              "182.1"
            ]
          },
          "metadata": {},
          "execution_count": 149
        }
      ]
    },
    {
      "cell_type": "code",
      "source": [
        "df[df['Gender'] == 'F'].Height.min()"
      ],
      "metadata": {
        "colab": {
          "base_uri": "https://localhost:8080/"
        },
        "id": "EbeQn_wzIkWg",
        "outputId": "a0e44222-5498-455a-8eae-d9e1ad5cc402"
      },
      "execution_count": null,
      "outputs": [
        {
          "output_type": "execute_result",
          "data": {
            "text/plain": [
              "155.2"
            ]
          },
          "metadata": {},
          "execution_count": 150
        }
      ]
    },
    {
      "cell_type": "code",
      "source": [
        "df[(df['Gender'] == 'M') & (df['Height'] > 175)].Weight.min()"
      ],
      "metadata": {
        "colab": {
          "base_uri": "https://localhost:8080/"
        },
        "id": "ggcpfQdsIn3_",
        "outputId": "ad6a22a5-292a-46ed-ee60-a6b3d6dfb4d4"
      },
      "execution_count": null,
      "outputs": [
        {
          "output_type": "execute_result",
          "data": {
            "text/plain": [
              "61.3"
            ]
          },
          "metadata": {},
          "execution_count": 151
        }
      ]
    },
    {
      "cell_type": "code",
      "source": [
        "df[(df['Gender'] == 'F') & (df['Height'] < 160)].Weight.max()"
      ],
      "metadata": {
        "colab": {
          "base_uri": "https://localhost:8080/"
        },
        "id": "Wab6kRivJapD",
        "outputId": "8367c0e5-7afb-432c-e604-30b3e4e602ca"
      },
      "execution_count": null,
      "outputs": [
        {
          "output_type": "execute_result",
          "data": {
            "text/plain": [
              "45.3"
            ]
          },
          "metadata": {},
          "execution_count": 152
        }
      ]
    },
    {
      "cell_type": "code",
      "source": [
        "df[df['Absence']!= 'N'].Grade.mean()"
      ],
      "metadata": {
        "colab": {
          "base_uri": "https://localhost:8080/"
        },
        "id": "xrllOuZ0JmkC",
        "outputId": "26c3f989-bbdd-4ca5-9185-074a924b776d"
      },
      "execution_count": null,
      "outputs": [
        {
          "output_type": "execute_result",
          "data": {
            "text/plain": [
              "3.0"
            ]
          },
          "metadata": {},
          "execution_count": 153
        }
      ]
    },
    {
      "cell_type": "code",
      "source": [
        "df[df['Absence']== 'Y'].Grade.mean()"
      ],
      "metadata": {
        "colab": {
          "base_uri": "https://localhost:8080/"
        },
        "id": "G5fXz92KJ0Vr",
        "outputId": "b0d8cdb1-b95f-4eea-f239-8186b365dada"
      },
      "execution_count": null,
      "outputs": [
        {
          "output_type": "execute_result",
          "data": {
            "text/plain": [
              "3.0"
            ]
          },
          "metadata": {},
          "execution_count": 154
        }
      ]
    },
    {
      "cell_type": "code",
      "source": [
        "df[(df['Bloodtype'] == 'A') | (df['Bloodtype'] == 'AB')].Height.mean()"
      ],
      "metadata": {
        "colab": {
          "base_uri": "https://localhost:8080/"
        },
        "id": "1ASZyjSwJ6NK",
        "outputId": "fdc5525b-a3fe-433f-f10e-e82b6db98cc9"
      },
      "execution_count": null,
      "outputs": [
        {
          "output_type": "execute_result",
          "data": {
            "text/plain": [
              "172.64285714285714"
            ]
          },
          "metadata": {},
          "execution_count": 155
        }
      ]
    },
    {
      "cell_type": "code",
      "source": [
        "df[((df['Bloodtype'] == 'A') | (df['Bloodtype'] == 'AB')) & (df['Gender'] == 'M')].Height.mean()"
      ],
      "metadata": {
        "colab": {
          "base_uri": "https://localhost:8080/"
        },
        "id": "x2wiT34tKGd9",
        "outputId": "5a44877c-6e9b-448b-b8bd-25e5fd836a5d"
      },
      "execution_count": null,
      "outputs": [
        {
          "output_type": "execute_result",
          "data": {
            "text/plain": [
              "173.375"
            ]
          },
          "metadata": {},
          "execution_count": 156
        }
      ]
    },
    {
      "cell_type": "code",
      "source": [
        "df[(df['Absence'] == 'Y') & (df.Grade >= 3)].Age.mean()"
      ],
      "metadata": {
        "colab": {
          "base_uri": "https://localhost:8080/"
        },
        "id": "PCQjumvgKP8i",
        "outputId": "1577955e-6987-47aa-b2bd-e5cba144dd9b"
      },
      "execution_count": null,
      "outputs": [
        {
          "output_type": "execute_result",
          "data": {
            "text/plain": [
              "23.666666666666668"
            ]
          },
          "metadata": {},
          "execution_count": 157
        }
      ]
    },
    {
      "cell_type": "markdown",
      "source": [
        "## Question 2"
      ],
      "metadata": {
        "id": "UZJqt5pDKjis"
      }
    },
    {
      "cell_type": "code",
      "source": [
        "import pandas as pd\n",
        "import numpy as np\n",
        "import os\n",
        "\n",
        "df = pd.read_csv('/content/drive/MyDrive/datasets/test/data_census.csv', header='infer')\n",
        "df.shape\n",
        "df.head(10) \n"
      ],
      "metadata": {
        "colab": {
          "base_uri": "https://localhost:8080/",
          "height": 363
        },
        "id": "j2QkR9tZKl9X",
        "outputId": "d87dfe2c-115f-4c34-9813-1f3bb5d2482e"
      },
      "execution_count": null,
      "outputs": [
        {
          "output_type": "execute_result",
          "data": {
            "text/plain": [
              "   Province Code  City Code    Population   Households  Person's Household  \\\n",
              "0            109       1001   10,078,850    4,197,478                 2.40   \n",
              "1            109       1188      155,695       72,882                 2.14   \n",
              "2            109       1189      126,817       59,614                 2.13   \n",
              "3            109       1158      235,186      108,138                 2.17   \n",
              "4            109       1105      298,145      126,915                 2.35   \n",
              "5            109       1032      362,197      158,769                 2.28   \n",
              "6            109       1065      362,604      160,110                 2.26   \n",
              "7            109       1190      417,976      177,077                 2.36   \n",
              "8            109       1106      464,176      192,670                 2.41   \n",
              "9            109       1006      333,523      141,325                 2.36   \n",
              "\n",
              "   Gender Ratio  \n",
              "0          0.97  \n",
              "1          0.98  \n",
              "2          1.00  \n",
              "3          0.94  \n",
              "4          0.99  \n",
              "5          0.97  \n",
              "6          1.01  \n",
              "7          1.00  \n",
              "8          0.96  \n",
              "9          0.97  "
            ],
            "text/html": [
              "\n",
              "  <div id=\"df-d0469534-e7f1-4e16-82fe-3b5e86477f66\">\n",
              "    <div class=\"colab-df-container\">\n",
              "      <div>\n",
              "<style scoped>\n",
              "    .dataframe tbody tr th:only-of-type {\n",
              "        vertical-align: middle;\n",
              "    }\n",
              "\n",
              "    .dataframe tbody tr th {\n",
              "        vertical-align: top;\n",
              "    }\n",
              "\n",
              "    .dataframe thead th {\n",
              "        text-align: right;\n",
              "    }\n",
              "</style>\n",
              "<table border=\"1\" class=\"dataframe\">\n",
              "  <thead>\n",
              "    <tr style=\"text-align: right;\">\n",
              "      <th></th>\n",
              "      <th>Province Code</th>\n",
              "      <th>City Code</th>\n",
              "      <th>Population</th>\n",
              "      <th>Households</th>\n",
              "      <th>Person's Household</th>\n",
              "      <th>Gender Ratio</th>\n",
              "    </tr>\n",
              "  </thead>\n",
              "  <tbody>\n",
              "    <tr>\n",
              "      <th>0</th>\n",
              "      <td>109</td>\n",
              "      <td>1001</td>\n",
              "      <td>10,078,850</td>\n",
              "      <td>4,197,478</td>\n",
              "      <td>2.40</td>\n",
              "      <td>0.97</td>\n",
              "    </tr>\n",
              "    <tr>\n",
              "      <th>1</th>\n",
              "      <td>109</td>\n",
              "      <td>1188</td>\n",
              "      <td>155,695</td>\n",
              "      <td>72,882</td>\n",
              "      <td>2.14</td>\n",
              "      <td>0.98</td>\n",
              "    </tr>\n",
              "    <tr>\n",
              "      <th>2</th>\n",
              "      <td>109</td>\n",
              "      <td>1189</td>\n",
              "      <td>126,817</td>\n",
              "      <td>59,614</td>\n",
              "      <td>2.13</td>\n",
              "      <td>1.00</td>\n",
              "    </tr>\n",
              "    <tr>\n",
              "      <th>3</th>\n",
              "      <td>109</td>\n",
              "      <td>1158</td>\n",
              "      <td>235,186</td>\n",
              "      <td>108,138</td>\n",
              "      <td>2.17</td>\n",
              "      <td>0.94</td>\n",
              "    </tr>\n",
              "    <tr>\n",
              "      <th>4</th>\n",
              "      <td>109</td>\n",
              "      <td>1105</td>\n",
              "      <td>298,145</td>\n",
              "      <td>126,915</td>\n",
              "      <td>2.35</td>\n",
              "      <td>0.99</td>\n",
              "    </tr>\n",
              "    <tr>\n",
              "      <th>5</th>\n",
              "      <td>109</td>\n",
              "      <td>1032</td>\n",
              "      <td>362,197</td>\n",
              "      <td>158,769</td>\n",
              "      <td>2.28</td>\n",
              "      <td>0.97</td>\n",
              "    </tr>\n",
              "    <tr>\n",
              "      <th>6</th>\n",
              "      <td>109</td>\n",
              "      <td>1065</td>\n",
              "      <td>362,604</td>\n",
              "      <td>160,110</td>\n",
              "      <td>2.26</td>\n",
              "      <td>1.01</td>\n",
              "    </tr>\n",
              "    <tr>\n",
              "      <th>7</th>\n",
              "      <td>109</td>\n",
              "      <td>1190</td>\n",
              "      <td>417,976</td>\n",
              "      <td>177,077</td>\n",
              "      <td>2.36</td>\n",
              "      <td>1.00</td>\n",
              "    </tr>\n",
              "    <tr>\n",
              "      <th>8</th>\n",
              "      <td>109</td>\n",
              "      <td>1106</td>\n",
              "      <td>464,176</td>\n",
              "      <td>192,670</td>\n",
              "      <td>2.41</td>\n",
              "      <td>0.96</td>\n",
              "    </tr>\n",
              "    <tr>\n",
              "      <th>9</th>\n",
              "      <td>109</td>\n",
              "      <td>1006</td>\n",
              "      <td>333,523</td>\n",
              "      <td>141,325</td>\n",
              "      <td>2.36</td>\n",
              "      <td>0.97</td>\n",
              "    </tr>\n",
              "  </tbody>\n",
              "</table>\n",
              "</div>\n",
              "      <button class=\"colab-df-convert\" onclick=\"convertToInteractive('df-d0469534-e7f1-4e16-82fe-3b5e86477f66')\"\n",
              "              title=\"Convert this dataframe to an interactive table.\"\n",
              "              style=\"display:none;\">\n",
              "        \n",
              "  <svg xmlns=\"http://www.w3.org/2000/svg\" height=\"24px\"viewBox=\"0 0 24 24\"\n",
              "       width=\"24px\">\n",
              "    <path d=\"M0 0h24v24H0V0z\" fill=\"none\"/>\n",
              "    <path d=\"M18.56 5.44l.94 2.06.94-2.06 2.06-.94-2.06-.94-.94-2.06-.94 2.06-2.06.94zm-11 1L8.5 8.5l.94-2.06 2.06-.94-2.06-.94L8.5 2.5l-.94 2.06-2.06.94zm10 10l.94 2.06.94-2.06 2.06-.94-2.06-.94-.94-2.06-.94 2.06-2.06.94z\"/><path d=\"M17.41 7.96l-1.37-1.37c-.4-.4-.92-.59-1.43-.59-.52 0-1.04.2-1.43.59L10.3 9.45l-7.72 7.72c-.78.78-.78 2.05 0 2.83L4 21.41c.39.39.9.59 1.41.59.51 0 1.02-.2 1.41-.59l7.78-7.78 2.81-2.81c.8-.78.8-2.07 0-2.86zM5.41 20L4 18.59l7.72-7.72 1.47 1.35L5.41 20z\"/>\n",
              "  </svg>\n",
              "      </button>\n",
              "      \n",
              "  <style>\n",
              "    .colab-df-container {\n",
              "      display:flex;\n",
              "      flex-wrap:wrap;\n",
              "      gap: 12px;\n",
              "    }\n",
              "\n",
              "    .colab-df-convert {\n",
              "      background-color: #E8F0FE;\n",
              "      border: none;\n",
              "      border-radius: 50%;\n",
              "      cursor: pointer;\n",
              "      display: none;\n",
              "      fill: #1967D2;\n",
              "      height: 32px;\n",
              "      padding: 0 0 0 0;\n",
              "      width: 32px;\n",
              "    }\n",
              "\n",
              "    .colab-df-convert:hover {\n",
              "      background-color: #E2EBFA;\n",
              "      box-shadow: 0px 1px 2px rgba(60, 64, 67, 0.3), 0px 1px 3px 1px rgba(60, 64, 67, 0.15);\n",
              "      fill: #174EA6;\n",
              "    }\n",
              "\n",
              "    [theme=dark] .colab-df-convert {\n",
              "      background-color: #3B4455;\n",
              "      fill: #D2E3FC;\n",
              "    }\n",
              "\n",
              "    [theme=dark] .colab-df-convert:hover {\n",
              "      background-color: #434B5C;\n",
              "      box-shadow: 0px 1px 3px 1px rgba(0, 0, 0, 0.15);\n",
              "      filter: drop-shadow(0px 1px 2px rgba(0, 0, 0, 0.3));\n",
              "      fill: #FFFFFF;\n",
              "    }\n",
              "  </style>\n",
              "\n",
              "      <script>\n",
              "        const buttonEl =\n",
              "          document.querySelector('#df-d0469534-e7f1-4e16-82fe-3b5e86477f66 button.colab-df-convert');\n",
              "        buttonEl.style.display =\n",
              "          google.colab.kernel.accessAllowed ? 'block' : 'none';\n",
              "\n",
              "        async function convertToInteractive(key) {\n",
              "          const element = document.querySelector('#df-d0469534-e7f1-4e16-82fe-3b5e86477f66');\n",
              "          const dataTable =\n",
              "            await google.colab.kernel.invokeFunction('convertToInteractive',\n",
              "                                                     [key], {});\n",
              "          if (!dataTable) return;\n",
              "\n",
              "          const docLinkHtml = 'Like what you see? Visit the ' +\n",
              "            '<a target=\"_blank\" href=https://colab.research.google.com/notebooks/data_table.ipynb>data table notebook</a>'\n",
              "            + ' to learn more about interactive tables.';\n",
              "          element.innerHTML = '';\n",
              "          dataTable['output_type'] = 'display_data';\n",
              "          await google.colab.output.renderOutput(dataTable, element);\n",
              "          const docLink = document.createElement('div');\n",
              "          docLink.innerHTML = docLinkHtml;\n",
              "          element.appendChild(docLink);\n",
              "        }\n",
              "      </script>\n",
              "    </div>\n",
              "  </div>\n",
              "  "
            ]
          },
          "metadata": {},
          "execution_count": 158
        }
      ]
    },
    {
      "cell_type": "code",
      "source": [
        "df.dtypes"
      ],
      "metadata": {
        "colab": {
          "base_uri": "https://localhost:8080/"
        },
        "id": "qLLw11RdLGhl",
        "outputId": "3145a5b8-ee2a-43d9-c587-9efa267462a2"
      },
      "execution_count": null,
      "outputs": [
        {
          "output_type": "execute_result",
          "data": {
            "text/plain": [
              "Province Code           int64\n",
              "City Code               int64\n",
              "Population             object\n",
              "Households             object\n",
              "Person's Household    float64\n",
              "Gender Ratio          float64\n",
              "dtype: object"
            ]
          },
          "metadata": {},
          "execution_count": 159
        }
      ]
    },
    {
      "cell_type": "code",
      "source": [
        "df.Population = df.Population.astype(str).str.replace(',','').astype('int64')\n",
        "df.dtypes"
      ],
      "metadata": {
        "colab": {
          "base_uri": "https://localhost:8080/"
        },
        "id": "kOUJZEaXLJzr",
        "outputId": "f00c7263-9393-4a1d-c9b0-2cc7d7d17e9b"
      },
      "execution_count": null,
      "outputs": [
        {
          "output_type": "execute_result",
          "data": {
            "text/plain": [
              "Province Code           int64\n",
              "City Code               int64\n",
              "Population              int64\n",
              "Households             object\n",
              "Person's Household    float64\n",
              "Gender Ratio          float64\n",
              "dtype: object"
            ]
          },
          "metadata": {},
          "execution_count": 160
        }
      ]
    },
    {
      "cell_type": "code",
      "source": [
        "df[(df['Province Code'] == 115) | (df['Province Code'] == 116)].Population.sum()"
      ],
      "metadata": {
        "colab": {
          "base_uri": "https://localhost:8080/"
        },
        "id": "II9Q-2vTKuVJ",
        "outputId": "b305e9d7-5ddb-4805-944d-5e3efd9686c2"
      },
      "execution_count": null,
      "outputs": [
        {
          "output_type": "execute_result",
          "data": {
            "text/plain": [
              "5970327"
            ]
          },
          "metadata": {},
          "execution_count": 161
        }
      ]
    },
    {
      "cell_type": "code",
      "source": [
        "df[df['Gender Ratio']>1].Population.mean()"
      ],
      "metadata": {
        "colab": {
          "base_uri": "https://localhost:8080/"
        },
        "id": "7DZfexbpLThy",
        "outputId": "6d6b4a12-4f82-4a7c-db79-5519a8b5458f"
      },
      "execution_count": null,
      "outputs": [
        {
          "output_type": "execute_result",
          "data": {
            "text/plain": [
              "419221.2076923077"
            ]
          },
          "metadata": {},
          "execution_count": 162
        }
      ]
    },
    {
      "cell_type": "code",
      "source": [
        "df[(df['Gender Ratio']>1) & (df[\"Person's Household\"] < 2)]"
      ],
      "metadata": {
        "colab": {
          "base_uri": "https://localhost:8080/",
          "height": 238
        },
        "id": "dTlWabWXND2P",
        "outputId": "0c786610-19c8-4767-c99c-c7d7791ec94b"
      },
      "execution_count": null,
      "outputs": [
        {
          "output_type": "execute_result",
          "data": {
            "text/plain": [
              "     Province Code  City Code  Population Households  Person's Household  \\\n",
              "62             112       1155       20825    11,172                 1.86   \n",
              "149            101       1240       26790    13,433                 1.99   \n",
              "152            101       1017       30066    15,485                 1.94   \n",
              "167            117       1033       38027    19,145                 1.99   \n",
              "227            113       1120       43566    22,248                 1.96   \n",
              "253            104       1163       10304     5,365                 1.92   \n",
              "\n",
              "     Gender Ratio  \n",
              "62           1.29  \n",
              "149          1.27  \n",
              "152          1.15  \n",
              "167          1.03  \n",
              "227          1.11  \n",
              "253          1.15  "
            ],
            "text/html": [
              "\n",
              "  <div id=\"df-9bd7c635-ddad-49f1-b798-483e2d4dfc78\">\n",
              "    <div class=\"colab-df-container\">\n",
              "      <div>\n",
              "<style scoped>\n",
              "    .dataframe tbody tr th:only-of-type {\n",
              "        vertical-align: middle;\n",
              "    }\n",
              "\n",
              "    .dataframe tbody tr th {\n",
              "        vertical-align: top;\n",
              "    }\n",
              "\n",
              "    .dataframe thead th {\n",
              "        text-align: right;\n",
              "    }\n",
              "</style>\n",
              "<table border=\"1\" class=\"dataframe\">\n",
              "  <thead>\n",
              "    <tr style=\"text-align: right;\">\n",
              "      <th></th>\n",
              "      <th>Province Code</th>\n",
              "      <th>City Code</th>\n",
              "      <th>Population</th>\n",
              "      <th>Households</th>\n",
              "      <th>Person's Household</th>\n",
              "      <th>Gender Ratio</th>\n",
              "    </tr>\n",
              "  </thead>\n",
              "  <tbody>\n",
              "    <tr>\n",
              "      <th>62</th>\n",
              "      <td>112</td>\n",
              "      <td>1155</td>\n",
              "      <td>20825</td>\n",
              "      <td>11,172</td>\n",
              "      <td>1.86</td>\n",
              "      <td>1.29</td>\n",
              "    </tr>\n",
              "    <tr>\n",
              "      <th>149</th>\n",
              "      <td>101</td>\n",
              "      <td>1240</td>\n",
              "      <td>26790</td>\n",
              "      <td>13,433</td>\n",
              "      <td>1.99</td>\n",
              "      <td>1.27</td>\n",
              "    </tr>\n",
              "    <tr>\n",
              "      <th>152</th>\n",
              "      <td>101</td>\n",
              "      <td>1017</td>\n",
              "      <td>30066</td>\n",
              "      <td>15,485</td>\n",
              "      <td>1.94</td>\n",
              "      <td>1.15</td>\n",
              "    </tr>\n",
              "    <tr>\n",
              "      <th>167</th>\n",
              "      <td>117</td>\n",
              "      <td>1033</td>\n",
              "      <td>38027</td>\n",
              "      <td>19,145</td>\n",
              "      <td>1.99</td>\n",
              "      <td>1.03</td>\n",
              "    </tr>\n",
              "    <tr>\n",
              "      <th>227</th>\n",
              "      <td>113</td>\n",
              "      <td>1120</td>\n",
              "      <td>43566</td>\n",
              "      <td>22,248</td>\n",
              "      <td>1.96</td>\n",
              "      <td>1.11</td>\n",
              "    </tr>\n",
              "    <tr>\n",
              "      <th>253</th>\n",
              "      <td>104</td>\n",
              "      <td>1163</td>\n",
              "      <td>10304</td>\n",
              "      <td>5,365</td>\n",
              "      <td>1.92</td>\n",
              "      <td>1.15</td>\n",
              "    </tr>\n",
              "  </tbody>\n",
              "</table>\n",
              "</div>\n",
              "      <button class=\"colab-df-convert\" onclick=\"convertToInteractive('df-9bd7c635-ddad-49f1-b798-483e2d4dfc78')\"\n",
              "              title=\"Convert this dataframe to an interactive table.\"\n",
              "              style=\"display:none;\">\n",
              "        \n",
              "  <svg xmlns=\"http://www.w3.org/2000/svg\" height=\"24px\"viewBox=\"0 0 24 24\"\n",
              "       width=\"24px\">\n",
              "    <path d=\"M0 0h24v24H0V0z\" fill=\"none\"/>\n",
              "    <path d=\"M18.56 5.44l.94 2.06.94-2.06 2.06-.94-2.06-.94-.94-2.06-.94 2.06-2.06.94zm-11 1L8.5 8.5l.94-2.06 2.06-.94-2.06-.94L8.5 2.5l-.94 2.06-2.06.94zm10 10l.94 2.06.94-2.06 2.06-.94-2.06-.94-.94-2.06-.94 2.06-2.06.94z\"/><path d=\"M17.41 7.96l-1.37-1.37c-.4-.4-.92-.59-1.43-.59-.52 0-1.04.2-1.43.59L10.3 9.45l-7.72 7.72c-.78.78-.78 2.05 0 2.83L4 21.41c.39.39.9.59 1.41.59.51 0 1.02-.2 1.41-.59l7.78-7.78 2.81-2.81c.8-.78.8-2.07 0-2.86zM5.41 20L4 18.59l7.72-7.72 1.47 1.35L5.41 20z\"/>\n",
              "  </svg>\n",
              "      </button>\n",
              "      \n",
              "  <style>\n",
              "    .colab-df-container {\n",
              "      display:flex;\n",
              "      flex-wrap:wrap;\n",
              "      gap: 12px;\n",
              "    }\n",
              "\n",
              "    .colab-df-convert {\n",
              "      background-color: #E8F0FE;\n",
              "      border: none;\n",
              "      border-radius: 50%;\n",
              "      cursor: pointer;\n",
              "      display: none;\n",
              "      fill: #1967D2;\n",
              "      height: 32px;\n",
              "      padding: 0 0 0 0;\n",
              "      width: 32px;\n",
              "    }\n",
              "\n",
              "    .colab-df-convert:hover {\n",
              "      background-color: #E2EBFA;\n",
              "      box-shadow: 0px 1px 2px rgba(60, 64, 67, 0.3), 0px 1px 3px 1px rgba(60, 64, 67, 0.15);\n",
              "      fill: #174EA6;\n",
              "    }\n",
              "\n",
              "    [theme=dark] .colab-df-convert {\n",
              "      background-color: #3B4455;\n",
              "      fill: #D2E3FC;\n",
              "    }\n",
              "\n",
              "    [theme=dark] .colab-df-convert:hover {\n",
              "      background-color: #434B5C;\n",
              "      box-shadow: 0px 1px 3px 1px rgba(0, 0, 0, 0.15);\n",
              "      filter: drop-shadow(0px 1px 2px rgba(0, 0, 0, 0.3));\n",
              "      fill: #FFFFFF;\n",
              "    }\n",
              "  </style>\n",
              "\n",
              "      <script>\n",
              "        const buttonEl =\n",
              "          document.querySelector('#df-9bd7c635-ddad-49f1-b798-483e2d4dfc78 button.colab-df-convert');\n",
              "        buttonEl.style.display =\n",
              "          google.colab.kernel.accessAllowed ? 'block' : 'none';\n",
              "\n",
              "        async function convertToInteractive(key) {\n",
              "          const element = document.querySelector('#df-9bd7c635-ddad-49f1-b798-483e2d4dfc78');\n",
              "          const dataTable =\n",
              "            await google.colab.kernel.invokeFunction('convertToInteractive',\n",
              "                                                     [key], {});\n",
              "          if (!dataTable) return;\n",
              "\n",
              "          const docLinkHtml = 'Like what you see? Visit the ' +\n",
              "            '<a target=\"_blank\" href=https://colab.research.google.com/notebooks/data_table.ipynb>data table notebook</a>'\n",
              "            + ' to learn more about interactive tables.';\n",
              "          element.innerHTML = '';\n",
              "          dataTable['output_type'] = 'display_data';\n",
              "          await google.colab.output.renderOutput(dataTable, element);\n",
              "          const docLink = document.createElement('div');\n",
              "          docLink.innerHTML = docLinkHtml;\n",
              "          element.appendChild(docLink);\n",
              "        }\n",
              "      </script>\n",
              "    </div>\n",
              "  </div>\n",
              "  "
            ]
          },
          "metadata": {},
          "execution_count": 163
        }
      ]
    },
    {
      "cell_type": "code",
      "source": [
        "df.Households = df.Households.astype(str).str.replace(',','').astype('int64')\n",
        "df.sort_values(ascending = True, by = ['Households']).head(10)"
      ],
      "metadata": {
        "colab": {
          "base_uri": "https://localhost:8080/",
          "height": 363
        },
        "id": "C_7-GSaoNajs",
        "outputId": "3eee05d8-ee6b-4f8a-b7d7-f2c864d12779"
      },
      "execution_count": null,
      "outputs": [
        {
          "output_type": "execute_result",
          "data": {
            "text/plain": [
              "     Province Code  City Code  Population  Households  Person's Household  \\\n",
              "253            104       1163       10304        5365                1.92   \n",
              "244            104       1147       17984        8769                2.05   \n",
              "200            114       1179       23308       10877                2.14   \n",
              "150            101       1130       24283       11162                2.18   \n",
              "62             112       1155       20825       11172                1.86   \n",
              "199            114       1073       25181       11723                2.15   \n",
              "241            104       1039       24096       12091                1.99   \n",
              "213            113       1034       27115       12465                2.18   \n",
              "198            114       1193       26325       12531                2.10   \n",
              "243            104       1208       26353       13233                1.99   \n",
              "\n",
              "     Gender Ratio  \n",
              "253          1.15  \n",
              "244          0.97  \n",
              "200          0.98  \n",
              "150          1.17  \n",
              "62           1.29  \n",
              "199          0.98  \n",
              "241          1.00  \n",
              "213          0.95  \n",
              "198          1.00  \n",
              "243          0.98  "
            ],
            "text/html": [
              "\n",
              "  <div id=\"df-8c5e61c5-5d31-4cc4-b704-8dff8ae4a4c9\">\n",
              "    <div class=\"colab-df-container\">\n",
              "      <div>\n",
              "<style scoped>\n",
              "    .dataframe tbody tr th:only-of-type {\n",
              "        vertical-align: middle;\n",
              "    }\n",
              "\n",
              "    .dataframe tbody tr th {\n",
              "        vertical-align: top;\n",
              "    }\n",
              "\n",
              "    .dataframe thead th {\n",
              "        text-align: right;\n",
              "    }\n",
              "</style>\n",
              "<table border=\"1\" class=\"dataframe\">\n",
              "  <thead>\n",
              "    <tr style=\"text-align: right;\">\n",
              "      <th></th>\n",
              "      <th>Province Code</th>\n",
              "      <th>City Code</th>\n",
              "      <th>Population</th>\n",
              "      <th>Households</th>\n",
              "      <th>Person's Household</th>\n",
              "      <th>Gender Ratio</th>\n",
              "    </tr>\n",
              "  </thead>\n",
              "  <tbody>\n",
              "    <tr>\n",
              "      <th>253</th>\n",
              "      <td>104</td>\n",
              "      <td>1163</td>\n",
              "      <td>10304</td>\n",
              "      <td>5365</td>\n",
              "      <td>1.92</td>\n",
              "      <td>1.15</td>\n",
              "    </tr>\n",
              "    <tr>\n",
              "      <th>244</th>\n",
              "      <td>104</td>\n",
              "      <td>1147</td>\n",
              "      <td>17984</td>\n",
              "      <td>8769</td>\n",
              "      <td>2.05</td>\n",
              "      <td>0.97</td>\n",
              "    </tr>\n",
              "    <tr>\n",
              "      <th>200</th>\n",
              "      <td>114</td>\n",
              "      <td>1179</td>\n",
              "      <td>23308</td>\n",
              "      <td>10877</td>\n",
              "      <td>2.14</td>\n",
              "      <td>0.98</td>\n",
              "    </tr>\n",
              "    <tr>\n",
              "      <th>150</th>\n",
              "      <td>101</td>\n",
              "      <td>1130</td>\n",
              "      <td>24283</td>\n",
              "      <td>11162</td>\n",
              "      <td>2.18</td>\n",
              "      <td>1.17</td>\n",
              "    </tr>\n",
              "    <tr>\n",
              "      <th>62</th>\n",
              "      <td>112</td>\n",
              "      <td>1155</td>\n",
              "      <td>20825</td>\n",
              "      <td>11172</td>\n",
              "      <td>1.86</td>\n",
              "      <td>1.29</td>\n",
              "    </tr>\n",
              "    <tr>\n",
              "      <th>199</th>\n",
              "      <td>114</td>\n",
              "      <td>1073</td>\n",
              "      <td>25181</td>\n",
              "      <td>11723</td>\n",
              "      <td>2.15</td>\n",
              "      <td>0.98</td>\n",
              "    </tr>\n",
              "    <tr>\n",
              "      <th>241</th>\n",
              "      <td>104</td>\n",
              "      <td>1039</td>\n",
              "      <td>24096</td>\n",
              "      <td>12091</td>\n",
              "      <td>1.99</td>\n",
              "      <td>1.00</td>\n",
              "    </tr>\n",
              "    <tr>\n",
              "      <th>213</th>\n",
              "      <td>113</td>\n",
              "      <td>1034</td>\n",
              "      <td>27115</td>\n",
              "      <td>12465</td>\n",
              "      <td>2.18</td>\n",
              "      <td>0.95</td>\n",
              "    </tr>\n",
              "    <tr>\n",
              "      <th>198</th>\n",
              "      <td>114</td>\n",
              "      <td>1193</td>\n",
              "      <td>26325</td>\n",
              "      <td>12531</td>\n",
              "      <td>2.10</td>\n",
              "      <td>1.00</td>\n",
              "    </tr>\n",
              "    <tr>\n",
              "      <th>243</th>\n",
              "      <td>104</td>\n",
              "      <td>1208</td>\n",
              "      <td>26353</td>\n",
              "      <td>13233</td>\n",
              "      <td>1.99</td>\n",
              "      <td>0.98</td>\n",
              "    </tr>\n",
              "  </tbody>\n",
              "</table>\n",
              "</div>\n",
              "      <button class=\"colab-df-convert\" onclick=\"convertToInteractive('df-8c5e61c5-5d31-4cc4-b704-8dff8ae4a4c9')\"\n",
              "              title=\"Convert this dataframe to an interactive table.\"\n",
              "              style=\"display:none;\">\n",
              "        \n",
              "  <svg xmlns=\"http://www.w3.org/2000/svg\" height=\"24px\"viewBox=\"0 0 24 24\"\n",
              "       width=\"24px\">\n",
              "    <path d=\"M0 0h24v24H0V0z\" fill=\"none\"/>\n",
              "    <path d=\"M18.56 5.44l.94 2.06.94-2.06 2.06-.94-2.06-.94-.94-2.06-.94 2.06-2.06.94zm-11 1L8.5 8.5l.94-2.06 2.06-.94-2.06-.94L8.5 2.5l-.94 2.06-2.06.94zm10 10l.94 2.06.94-2.06 2.06-.94-2.06-.94-.94-2.06-.94 2.06-2.06.94z\"/><path d=\"M17.41 7.96l-1.37-1.37c-.4-.4-.92-.59-1.43-.59-.52 0-1.04.2-1.43.59L10.3 9.45l-7.72 7.72c-.78.78-.78 2.05 0 2.83L4 21.41c.39.39.9.59 1.41.59.51 0 1.02-.2 1.41-.59l7.78-7.78 2.81-2.81c.8-.78.8-2.07 0-2.86zM5.41 20L4 18.59l7.72-7.72 1.47 1.35L5.41 20z\"/>\n",
              "  </svg>\n",
              "      </button>\n",
              "      \n",
              "  <style>\n",
              "    .colab-df-container {\n",
              "      display:flex;\n",
              "      flex-wrap:wrap;\n",
              "      gap: 12px;\n",
              "    }\n",
              "\n",
              "    .colab-df-convert {\n",
              "      background-color: #E8F0FE;\n",
              "      border: none;\n",
              "      border-radius: 50%;\n",
              "      cursor: pointer;\n",
              "      display: none;\n",
              "      fill: #1967D2;\n",
              "      height: 32px;\n",
              "      padding: 0 0 0 0;\n",
              "      width: 32px;\n",
              "    }\n",
              "\n",
              "    .colab-df-convert:hover {\n",
              "      background-color: #E2EBFA;\n",
              "      box-shadow: 0px 1px 2px rgba(60, 64, 67, 0.3), 0px 1px 3px 1px rgba(60, 64, 67, 0.15);\n",
              "      fill: #174EA6;\n",
              "    }\n",
              "\n",
              "    [theme=dark] .colab-df-convert {\n",
              "      background-color: #3B4455;\n",
              "      fill: #D2E3FC;\n",
              "    }\n",
              "\n",
              "    [theme=dark] .colab-df-convert:hover {\n",
              "      background-color: #434B5C;\n",
              "      box-shadow: 0px 1px 3px 1px rgba(0, 0, 0, 0.15);\n",
              "      filter: drop-shadow(0px 1px 2px rgba(0, 0, 0, 0.3));\n",
              "      fill: #FFFFFF;\n",
              "    }\n",
              "  </style>\n",
              "\n",
              "      <script>\n",
              "        const buttonEl =\n",
              "          document.querySelector('#df-8c5e61c5-5d31-4cc4-b704-8dff8ae4a4c9 button.colab-df-convert');\n",
              "        buttonEl.style.display =\n",
              "          google.colab.kernel.accessAllowed ? 'block' : 'none';\n",
              "\n",
              "        async function convertToInteractive(key) {\n",
              "          const element = document.querySelector('#df-8c5e61c5-5d31-4cc4-b704-8dff8ae4a4c9');\n",
              "          const dataTable =\n",
              "            await google.colab.kernel.invokeFunction('convertToInteractive',\n",
              "                                                     [key], {});\n",
              "          if (!dataTable) return;\n",
              "\n",
              "          const docLinkHtml = 'Like what you see? Visit the ' +\n",
              "            '<a target=\"_blank\" href=https://colab.research.google.com/notebooks/data_table.ipynb>data table notebook</a>'\n",
              "            + ' to learn more about interactive tables.';\n",
              "          element.innerHTML = '';\n",
              "          dataTable['output_type'] = 'display_data';\n",
              "          await google.colab.output.renderOutput(dataTable, element);\n",
              "          const docLink = document.createElement('div');\n",
              "          docLink.innerHTML = docLinkHtml;\n",
              "          element.appendChild(docLink);\n",
              "        }\n",
              "      </script>\n",
              "    </div>\n",
              "  </div>\n",
              "  "
            ]
          },
          "metadata": {},
          "execution_count": 164
        }
      ]
    },
    {
      "cell_type": "markdown",
      "source": [
        "## Question 3"
      ],
      "metadata": {
        "id": "PqW7DYoeOL-4"
      }
    },
    {
      "cell_type": "code",
      "source": [
        "import pandas as pd\n",
        "import numpy as np\n",
        "import os\n",
        "\n",
        "df = pd.read_csv('/content/drive/MyDrive/datasets/test/data_sales.csv', header='infer')\n",
        "df.shape\n",
        "df.head(5)\n"
      ],
      "metadata": {
        "colab": {
          "base_uri": "https://localhost:8080/",
          "height": 206
        },
        "id": "Z2HgBGG-OKa6",
        "outputId": "ac32fce6-d201-42f3-aa27-3a98fd9f3f51"
      },
      "execution_count": null,
      "outputs": [
        {
          "output_type": "execute_result",
          "data": {
            "text/plain": [
              "        Date   Region     Item  Unit Price  Units\n",
              "0  04-Jul-14     East  Pen Set        4.99     62\n",
              "1  12-Jul-14     East   Binder        1.99     29\n",
              "2  21-Jul-14  Central  Pen Set       12.49     55\n",
              "3  29-Jul-14     East   Binder       19.99     81\n",
              "4  07-Aug-14  Central  Pen Set       23.95     42"
            ],
            "text/html": [
              "\n",
              "  <div id=\"df-ce698a34-7994-4520-b449-0cfa2f95abfd\">\n",
              "    <div class=\"colab-df-container\">\n",
              "      <div>\n",
              "<style scoped>\n",
              "    .dataframe tbody tr th:only-of-type {\n",
              "        vertical-align: middle;\n",
              "    }\n",
              "\n",
              "    .dataframe tbody tr th {\n",
              "        vertical-align: top;\n",
              "    }\n",
              "\n",
              "    .dataframe thead th {\n",
              "        text-align: right;\n",
              "    }\n",
              "</style>\n",
              "<table border=\"1\" class=\"dataframe\">\n",
              "  <thead>\n",
              "    <tr style=\"text-align: right;\">\n",
              "      <th></th>\n",
              "      <th>Date</th>\n",
              "      <th>Region</th>\n",
              "      <th>Item</th>\n",
              "      <th>Unit Price</th>\n",
              "      <th>Units</th>\n",
              "    </tr>\n",
              "  </thead>\n",
              "  <tbody>\n",
              "    <tr>\n",
              "      <th>0</th>\n",
              "      <td>04-Jul-14</td>\n",
              "      <td>East</td>\n",
              "      <td>Pen Set</td>\n",
              "      <td>4.99</td>\n",
              "      <td>62</td>\n",
              "    </tr>\n",
              "    <tr>\n",
              "      <th>1</th>\n",
              "      <td>12-Jul-14</td>\n",
              "      <td>East</td>\n",
              "      <td>Binder</td>\n",
              "      <td>1.99</td>\n",
              "      <td>29</td>\n",
              "    </tr>\n",
              "    <tr>\n",
              "      <th>2</th>\n",
              "      <td>21-Jul-14</td>\n",
              "      <td>Central</td>\n",
              "      <td>Pen Set</td>\n",
              "      <td>12.49</td>\n",
              "      <td>55</td>\n",
              "    </tr>\n",
              "    <tr>\n",
              "      <th>3</th>\n",
              "      <td>29-Jul-14</td>\n",
              "      <td>East</td>\n",
              "      <td>Binder</td>\n",
              "      <td>19.99</td>\n",
              "      <td>81</td>\n",
              "    </tr>\n",
              "    <tr>\n",
              "      <th>4</th>\n",
              "      <td>07-Aug-14</td>\n",
              "      <td>Central</td>\n",
              "      <td>Pen Set</td>\n",
              "      <td>23.95</td>\n",
              "      <td>42</td>\n",
              "    </tr>\n",
              "  </tbody>\n",
              "</table>\n",
              "</div>\n",
              "      <button class=\"colab-df-convert\" onclick=\"convertToInteractive('df-ce698a34-7994-4520-b449-0cfa2f95abfd')\"\n",
              "              title=\"Convert this dataframe to an interactive table.\"\n",
              "              style=\"display:none;\">\n",
              "        \n",
              "  <svg xmlns=\"http://www.w3.org/2000/svg\" height=\"24px\"viewBox=\"0 0 24 24\"\n",
              "       width=\"24px\">\n",
              "    <path d=\"M0 0h24v24H0V0z\" fill=\"none\"/>\n",
              "    <path d=\"M18.56 5.44l.94 2.06.94-2.06 2.06-.94-2.06-.94-.94-2.06-.94 2.06-2.06.94zm-11 1L8.5 8.5l.94-2.06 2.06-.94-2.06-.94L8.5 2.5l-.94 2.06-2.06.94zm10 10l.94 2.06.94-2.06 2.06-.94-2.06-.94-.94-2.06-.94 2.06-2.06.94z\"/><path d=\"M17.41 7.96l-1.37-1.37c-.4-.4-.92-.59-1.43-.59-.52 0-1.04.2-1.43.59L10.3 9.45l-7.72 7.72c-.78.78-.78 2.05 0 2.83L4 21.41c.39.39.9.59 1.41.59.51 0 1.02-.2 1.41-.59l7.78-7.78 2.81-2.81c.8-.78.8-2.07 0-2.86zM5.41 20L4 18.59l7.72-7.72 1.47 1.35L5.41 20z\"/>\n",
              "  </svg>\n",
              "      </button>\n",
              "      \n",
              "  <style>\n",
              "    .colab-df-container {\n",
              "      display:flex;\n",
              "      flex-wrap:wrap;\n",
              "      gap: 12px;\n",
              "    }\n",
              "\n",
              "    .colab-df-convert {\n",
              "      background-color: #E8F0FE;\n",
              "      border: none;\n",
              "      border-radius: 50%;\n",
              "      cursor: pointer;\n",
              "      display: none;\n",
              "      fill: #1967D2;\n",
              "      height: 32px;\n",
              "      padding: 0 0 0 0;\n",
              "      width: 32px;\n",
              "    }\n",
              "\n",
              "    .colab-df-convert:hover {\n",
              "      background-color: #E2EBFA;\n",
              "      box-shadow: 0px 1px 2px rgba(60, 64, 67, 0.3), 0px 1px 3px 1px rgba(60, 64, 67, 0.15);\n",
              "      fill: #174EA6;\n",
              "    }\n",
              "\n",
              "    [theme=dark] .colab-df-convert {\n",
              "      background-color: #3B4455;\n",
              "      fill: #D2E3FC;\n",
              "    }\n",
              "\n",
              "    [theme=dark] .colab-df-convert:hover {\n",
              "      background-color: #434B5C;\n",
              "      box-shadow: 0px 1px 3px 1px rgba(0, 0, 0, 0.15);\n",
              "      filter: drop-shadow(0px 1px 2px rgba(0, 0, 0, 0.3));\n",
              "      fill: #FFFFFF;\n",
              "    }\n",
              "  </style>\n",
              "\n",
              "      <script>\n",
              "        const buttonEl =\n",
              "          document.querySelector('#df-ce698a34-7994-4520-b449-0cfa2f95abfd button.colab-df-convert');\n",
              "        buttonEl.style.display =\n",
              "          google.colab.kernel.accessAllowed ? 'block' : 'none';\n",
              "\n",
              "        async function convertToInteractive(key) {\n",
              "          const element = document.querySelector('#df-ce698a34-7994-4520-b449-0cfa2f95abfd');\n",
              "          const dataTable =\n",
              "            await google.colab.kernel.invokeFunction('convertToInteractive',\n",
              "                                                     [key], {});\n",
              "          if (!dataTable) return;\n",
              "\n",
              "          const docLinkHtml = 'Like what you see? Visit the ' +\n",
              "            '<a target=\"_blank\" href=https://colab.research.google.com/notebooks/data_table.ipynb>data table notebook</a>'\n",
              "            + ' to learn more about interactive tables.';\n",
              "          element.innerHTML = '';\n",
              "          dataTable['output_type'] = 'display_data';\n",
              "          await google.colab.output.renderOutput(dataTable, element);\n",
              "          const docLink = document.createElement('div');\n",
              "          docLink.innerHTML = docLinkHtml;\n",
              "          element.appendChild(docLink);\n",
              "        }\n",
              "      </script>\n",
              "    </div>\n",
              "  </div>\n",
              "  "
            ]
          },
          "metadata": {},
          "execution_count": 165
        }
      ]
    },
    {
      "cell_type": "code",
      "source": [
        "df['Amount'] = df['Unit Price'] * df['Units']\n",
        "df.head()"
      ],
      "metadata": {
        "colab": {
          "base_uri": "https://localhost:8080/",
          "height": 206
        },
        "id": "HUKed7pzOYv0",
        "outputId": "3646d636-8891-43ce-eaa2-dc827ac5feaa"
      },
      "execution_count": null,
      "outputs": [
        {
          "output_type": "execute_result",
          "data": {
            "text/plain": [
              "        Date   Region     Item  Unit Price  Units   Amount\n",
              "0  04-Jul-14     East  Pen Set        4.99     62   309.38\n",
              "1  12-Jul-14     East   Binder        1.99     29    57.71\n",
              "2  21-Jul-14  Central  Pen Set       12.49     55   686.95\n",
              "3  29-Jul-14     East   Binder       19.99     81  1619.19\n",
              "4  07-Aug-14  Central  Pen Set       23.95     42  1005.90"
            ],
            "text/html": [
              "\n",
              "  <div id=\"df-46bf9ff8-74a1-4aef-8659-472cb0e2db13\">\n",
              "    <div class=\"colab-df-container\">\n",
              "      <div>\n",
              "<style scoped>\n",
              "    .dataframe tbody tr th:only-of-type {\n",
              "        vertical-align: middle;\n",
              "    }\n",
              "\n",
              "    .dataframe tbody tr th {\n",
              "        vertical-align: top;\n",
              "    }\n",
              "\n",
              "    .dataframe thead th {\n",
              "        text-align: right;\n",
              "    }\n",
              "</style>\n",
              "<table border=\"1\" class=\"dataframe\">\n",
              "  <thead>\n",
              "    <tr style=\"text-align: right;\">\n",
              "      <th></th>\n",
              "      <th>Date</th>\n",
              "      <th>Region</th>\n",
              "      <th>Item</th>\n",
              "      <th>Unit Price</th>\n",
              "      <th>Units</th>\n",
              "      <th>Amount</th>\n",
              "    </tr>\n",
              "  </thead>\n",
              "  <tbody>\n",
              "    <tr>\n",
              "      <th>0</th>\n",
              "      <td>04-Jul-14</td>\n",
              "      <td>East</td>\n",
              "      <td>Pen Set</td>\n",
              "      <td>4.99</td>\n",
              "      <td>62</td>\n",
              "      <td>309.38</td>\n",
              "    </tr>\n",
              "    <tr>\n",
              "      <th>1</th>\n",
              "      <td>12-Jul-14</td>\n",
              "      <td>East</td>\n",
              "      <td>Binder</td>\n",
              "      <td>1.99</td>\n",
              "      <td>29</td>\n",
              "      <td>57.71</td>\n",
              "    </tr>\n",
              "    <tr>\n",
              "      <th>2</th>\n",
              "      <td>21-Jul-14</td>\n",
              "      <td>Central</td>\n",
              "      <td>Pen Set</td>\n",
              "      <td>12.49</td>\n",
              "      <td>55</td>\n",
              "      <td>686.95</td>\n",
              "    </tr>\n",
              "    <tr>\n",
              "      <th>3</th>\n",
              "      <td>29-Jul-14</td>\n",
              "      <td>East</td>\n",
              "      <td>Binder</td>\n",
              "      <td>19.99</td>\n",
              "      <td>81</td>\n",
              "      <td>1619.19</td>\n",
              "    </tr>\n",
              "    <tr>\n",
              "      <th>4</th>\n",
              "      <td>07-Aug-14</td>\n",
              "      <td>Central</td>\n",
              "      <td>Pen Set</td>\n",
              "      <td>23.95</td>\n",
              "      <td>42</td>\n",
              "      <td>1005.90</td>\n",
              "    </tr>\n",
              "  </tbody>\n",
              "</table>\n",
              "</div>\n",
              "      <button class=\"colab-df-convert\" onclick=\"convertToInteractive('df-46bf9ff8-74a1-4aef-8659-472cb0e2db13')\"\n",
              "              title=\"Convert this dataframe to an interactive table.\"\n",
              "              style=\"display:none;\">\n",
              "        \n",
              "  <svg xmlns=\"http://www.w3.org/2000/svg\" height=\"24px\"viewBox=\"0 0 24 24\"\n",
              "       width=\"24px\">\n",
              "    <path d=\"M0 0h24v24H0V0z\" fill=\"none\"/>\n",
              "    <path d=\"M18.56 5.44l.94 2.06.94-2.06 2.06-.94-2.06-.94-.94-2.06-.94 2.06-2.06.94zm-11 1L8.5 8.5l.94-2.06 2.06-.94-2.06-.94L8.5 2.5l-.94 2.06-2.06.94zm10 10l.94 2.06.94-2.06 2.06-.94-2.06-.94-.94-2.06-.94 2.06-2.06.94z\"/><path d=\"M17.41 7.96l-1.37-1.37c-.4-.4-.92-.59-1.43-.59-.52 0-1.04.2-1.43.59L10.3 9.45l-7.72 7.72c-.78.78-.78 2.05 0 2.83L4 21.41c.39.39.9.59 1.41.59.51 0 1.02-.2 1.41-.59l7.78-7.78 2.81-2.81c.8-.78.8-2.07 0-2.86zM5.41 20L4 18.59l7.72-7.72 1.47 1.35L5.41 20z\"/>\n",
              "  </svg>\n",
              "      </button>\n",
              "      \n",
              "  <style>\n",
              "    .colab-df-container {\n",
              "      display:flex;\n",
              "      flex-wrap:wrap;\n",
              "      gap: 12px;\n",
              "    }\n",
              "\n",
              "    .colab-df-convert {\n",
              "      background-color: #E8F0FE;\n",
              "      border: none;\n",
              "      border-radius: 50%;\n",
              "      cursor: pointer;\n",
              "      display: none;\n",
              "      fill: #1967D2;\n",
              "      height: 32px;\n",
              "      padding: 0 0 0 0;\n",
              "      width: 32px;\n",
              "    }\n",
              "\n",
              "    .colab-df-convert:hover {\n",
              "      background-color: #E2EBFA;\n",
              "      box-shadow: 0px 1px 2px rgba(60, 64, 67, 0.3), 0px 1px 3px 1px rgba(60, 64, 67, 0.15);\n",
              "      fill: #174EA6;\n",
              "    }\n",
              "\n",
              "    [theme=dark] .colab-df-convert {\n",
              "      background-color: #3B4455;\n",
              "      fill: #D2E3FC;\n",
              "    }\n",
              "\n",
              "    [theme=dark] .colab-df-convert:hover {\n",
              "      background-color: #434B5C;\n",
              "      box-shadow: 0px 1px 3px 1px rgba(0, 0, 0, 0.15);\n",
              "      filter: drop-shadow(0px 1px 2px rgba(0, 0, 0, 0.3));\n",
              "      fill: #FFFFFF;\n",
              "    }\n",
              "  </style>\n",
              "\n",
              "      <script>\n",
              "        const buttonEl =\n",
              "          document.querySelector('#df-46bf9ff8-74a1-4aef-8659-472cb0e2db13 button.colab-df-convert');\n",
              "        buttonEl.style.display =\n",
              "          google.colab.kernel.accessAllowed ? 'block' : 'none';\n",
              "\n",
              "        async function convertToInteractive(key) {\n",
              "          const element = document.querySelector('#df-46bf9ff8-74a1-4aef-8659-472cb0e2db13');\n",
              "          const dataTable =\n",
              "            await google.colab.kernel.invokeFunction('convertToInteractive',\n",
              "                                                     [key], {});\n",
              "          if (!dataTable) return;\n",
              "\n",
              "          const docLinkHtml = 'Like what you see? Visit the ' +\n",
              "            '<a target=\"_blank\" href=https://colab.research.google.com/notebooks/data_table.ipynb>data table notebook</a>'\n",
              "            + ' to learn more about interactive tables.';\n",
              "          element.innerHTML = '';\n",
              "          dataTable['output_type'] = 'display_data';\n",
              "          await google.colab.output.renderOutput(dataTable, element);\n",
              "          const docLink = document.createElement('div');\n",
              "          docLink.innerHTML = docLinkHtml;\n",
              "          element.appendChild(docLink);\n",
              "        }\n",
              "      </script>\n",
              "    </div>\n",
              "  </div>\n",
              "  "
            ]
          },
          "metadata": {},
          "execution_count": 166
        }
      ]
    },
    {
      "cell_type": "code",
      "source": [
        "df.groupby('Region')[['Unit Price']].mean()"
      ],
      "metadata": {
        "colab": {
          "base_uri": "https://localhost:8080/",
          "height": 175
        },
        "id": "4RBSV7ifOn7f",
        "outputId": "9d1a531f-55d7-47ce-e113-e4abff547d71"
      },
      "execution_count": null,
      "outputs": [
        {
          "output_type": "execute_result",
          "data": {
            "text/plain": [
              "         Unit Price\n",
              "Region             \n",
              "Central   18.018750\n",
              "East       9.143846\n",
              "West      53.658333"
            ],
            "text/html": [
              "\n",
              "  <div id=\"df-c731a1ee-1648-4ff2-8e0b-0e17e81a09ae\">\n",
              "    <div class=\"colab-df-container\">\n",
              "      <div>\n",
              "<style scoped>\n",
              "    .dataframe tbody tr th:only-of-type {\n",
              "        vertical-align: middle;\n",
              "    }\n",
              "\n",
              "    .dataframe tbody tr th {\n",
              "        vertical-align: top;\n",
              "    }\n",
              "\n",
              "    .dataframe thead th {\n",
              "        text-align: right;\n",
              "    }\n",
              "</style>\n",
              "<table border=\"1\" class=\"dataframe\">\n",
              "  <thead>\n",
              "    <tr style=\"text-align: right;\">\n",
              "      <th></th>\n",
              "      <th>Unit Price</th>\n",
              "    </tr>\n",
              "    <tr>\n",
              "      <th>Region</th>\n",
              "      <th></th>\n",
              "    </tr>\n",
              "  </thead>\n",
              "  <tbody>\n",
              "    <tr>\n",
              "      <th>Central</th>\n",
              "      <td>18.018750</td>\n",
              "    </tr>\n",
              "    <tr>\n",
              "      <th>East</th>\n",
              "      <td>9.143846</td>\n",
              "    </tr>\n",
              "    <tr>\n",
              "      <th>West</th>\n",
              "      <td>53.658333</td>\n",
              "    </tr>\n",
              "  </tbody>\n",
              "</table>\n",
              "</div>\n",
              "      <button class=\"colab-df-convert\" onclick=\"convertToInteractive('df-c731a1ee-1648-4ff2-8e0b-0e17e81a09ae')\"\n",
              "              title=\"Convert this dataframe to an interactive table.\"\n",
              "              style=\"display:none;\">\n",
              "        \n",
              "  <svg xmlns=\"http://www.w3.org/2000/svg\" height=\"24px\"viewBox=\"0 0 24 24\"\n",
              "       width=\"24px\">\n",
              "    <path d=\"M0 0h24v24H0V0z\" fill=\"none\"/>\n",
              "    <path d=\"M18.56 5.44l.94 2.06.94-2.06 2.06-.94-2.06-.94-.94-2.06-.94 2.06-2.06.94zm-11 1L8.5 8.5l.94-2.06 2.06-.94-2.06-.94L8.5 2.5l-.94 2.06-2.06.94zm10 10l.94 2.06.94-2.06 2.06-.94-2.06-.94-.94-2.06-.94 2.06-2.06.94z\"/><path d=\"M17.41 7.96l-1.37-1.37c-.4-.4-.92-.59-1.43-.59-.52 0-1.04.2-1.43.59L10.3 9.45l-7.72 7.72c-.78.78-.78 2.05 0 2.83L4 21.41c.39.39.9.59 1.41.59.51 0 1.02-.2 1.41-.59l7.78-7.78 2.81-2.81c.8-.78.8-2.07 0-2.86zM5.41 20L4 18.59l7.72-7.72 1.47 1.35L5.41 20z\"/>\n",
              "  </svg>\n",
              "      </button>\n",
              "      \n",
              "  <style>\n",
              "    .colab-df-container {\n",
              "      display:flex;\n",
              "      flex-wrap:wrap;\n",
              "      gap: 12px;\n",
              "    }\n",
              "\n",
              "    .colab-df-convert {\n",
              "      background-color: #E8F0FE;\n",
              "      border: none;\n",
              "      border-radius: 50%;\n",
              "      cursor: pointer;\n",
              "      display: none;\n",
              "      fill: #1967D2;\n",
              "      height: 32px;\n",
              "      padding: 0 0 0 0;\n",
              "      width: 32px;\n",
              "    }\n",
              "\n",
              "    .colab-df-convert:hover {\n",
              "      background-color: #E2EBFA;\n",
              "      box-shadow: 0px 1px 2px rgba(60, 64, 67, 0.3), 0px 1px 3px 1px rgba(60, 64, 67, 0.15);\n",
              "      fill: #174EA6;\n",
              "    }\n",
              "\n",
              "    [theme=dark] .colab-df-convert {\n",
              "      background-color: #3B4455;\n",
              "      fill: #D2E3FC;\n",
              "    }\n",
              "\n",
              "    [theme=dark] .colab-df-convert:hover {\n",
              "      background-color: #434B5C;\n",
              "      box-shadow: 0px 1px 3px 1px rgba(0, 0, 0, 0.15);\n",
              "      filter: drop-shadow(0px 1px 2px rgba(0, 0, 0, 0.3));\n",
              "      fill: #FFFFFF;\n",
              "    }\n",
              "  </style>\n",
              "\n",
              "      <script>\n",
              "        const buttonEl =\n",
              "          document.querySelector('#df-c731a1ee-1648-4ff2-8e0b-0e17e81a09ae button.colab-df-convert');\n",
              "        buttonEl.style.display =\n",
              "          google.colab.kernel.accessAllowed ? 'block' : 'none';\n",
              "\n",
              "        async function convertToInteractive(key) {\n",
              "          const element = document.querySelector('#df-c731a1ee-1648-4ff2-8e0b-0e17e81a09ae');\n",
              "          const dataTable =\n",
              "            await google.colab.kernel.invokeFunction('convertToInteractive',\n",
              "                                                     [key], {});\n",
              "          if (!dataTable) return;\n",
              "\n",
              "          const docLinkHtml = 'Like what you see? Visit the ' +\n",
              "            '<a target=\"_blank\" href=https://colab.research.google.com/notebooks/data_table.ipynb>data table notebook</a>'\n",
              "            + ' to learn more about interactive tables.';\n",
              "          element.innerHTML = '';\n",
              "          dataTable['output_type'] = 'display_data';\n",
              "          await google.colab.output.renderOutput(dataTable, element);\n",
              "          const docLink = document.createElement('div');\n",
              "          docLink.innerHTML = docLinkHtml;\n",
              "          element.appendChild(docLink);\n",
              "        }\n",
              "      </script>\n",
              "    </div>\n",
              "  </div>\n",
              "  "
            ]
          },
          "metadata": {},
          "execution_count": 167
        }
      ]
    },
    {
      "cell_type": "code",
      "source": [
        "pd.pivot_table(df, index = ['Region'], values = ['Unit Price'], aggfunc = np.mean)"
      ],
      "metadata": {
        "colab": {
          "base_uri": "https://localhost:8080/",
          "height": 175
        },
        "id": "VMX_0iDmO0w-",
        "outputId": "f05d423d-37b0-4825-9f33-574b76597fcd"
      },
      "execution_count": null,
      "outputs": [
        {
          "output_type": "execute_result",
          "data": {
            "text/plain": [
              "         Unit Price\n",
              "Region             \n",
              "Central   18.018750\n",
              "East       9.143846\n",
              "West      53.658333"
            ],
            "text/html": [
              "\n",
              "  <div id=\"df-348d7b71-1c60-4690-bbbd-e7c5db9ace42\">\n",
              "    <div class=\"colab-df-container\">\n",
              "      <div>\n",
              "<style scoped>\n",
              "    .dataframe tbody tr th:only-of-type {\n",
              "        vertical-align: middle;\n",
              "    }\n",
              "\n",
              "    .dataframe tbody tr th {\n",
              "        vertical-align: top;\n",
              "    }\n",
              "\n",
              "    .dataframe thead th {\n",
              "        text-align: right;\n",
              "    }\n",
              "</style>\n",
              "<table border=\"1\" class=\"dataframe\">\n",
              "  <thead>\n",
              "    <tr style=\"text-align: right;\">\n",
              "      <th></th>\n",
              "      <th>Unit Price</th>\n",
              "    </tr>\n",
              "    <tr>\n",
              "      <th>Region</th>\n",
              "      <th></th>\n",
              "    </tr>\n",
              "  </thead>\n",
              "  <tbody>\n",
              "    <tr>\n",
              "      <th>Central</th>\n",
              "      <td>18.018750</td>\n",
              "    </tr>\n",
              "    <tr>\n",
              "      <th>East</th>\n",
              "      <td>9.143846</td>\n",
              "    </tr>\n",
              "    <tr>\n",
              "      <th>West</th>\n",
              "      <td>53.658333</td>\n",
              "    </tr>\n",
              "  </tbody>\n",
              "</table>\n",
              "</div>\n",
              "      <button class=\"colab-df-convert\" onclick=\"convertToInteractive('df-348d7b71-1c60-4690-bbbd-e7c5db9ace42')\"\n",
              "              title=\"Convert this dataframe to an interactive table.\"\n",
              "              style=\"display:none;\">\n",
              "        \n",
              "  <svg xmlns=\"http://www.w3.org/2000/svg\" height=\"24px\"viewBox=\"0 0 24 24\"\n",
              "       width=\"24px\">\n",
              "    <path d=\"M0 0h24v24H0V0z\" fill=\"none\"/>\n",
              "    <path d=\"M18.56 5.44l.94 2.06.94-2.06 2.06-.94-2.06-.94-.94-2.06-.94 2.06-2.06.94zm-11 1L8.5 8.5l.94-2.06 2.06-.94-2.06-.94L8.5 2.5l-.94 2.06-2.06.94zm10 10l.94 2.06.94-2.06 2.06-.94-2.06-.94-.94-2.06-.94 2.06-2.06.94z\"/><path d=\"M17.41 7.96l-1.37-1.37c-.4-.4-.92-.59-1.43-.59-.52 0-1.04.2-1.43.59L10.3 9.45l-7.72 7.72c-.78.78-.78 2.05 0 2.83L4 21.41c.39.39.9.59 1.41.59.51 0 1.02-.2 1.41-.59l7.78-7.78 2.81-2.81c.8-.78.8-2.07 0-2.86zM5.41 20L4 18.59l7.72-7.72 1.47 1.35L5.41 20z\"/>\n",
              "  </svg>\n",
              "      </button>\n",
              "      \n",
              "  <style>\n",
              "    .colab-df-container {\n",
              "      display:flex;\n",
              "      flex-wrap:wrap;\n",
              "      gap: 12px;\n",
              "    }\n",
              "\n",
              "    .colab-df-convert {\n",
              "      background-color: #E8F0FE;\n",
              "      border: none;\n",
              "      border-radius: 50%;\n",
              "      cursor: pointer;\n",
              "      display: none;\n",
              "      fill: #1967D2;\n",
              "      height: 32px;\n",
              "      padding: 0 0 0 0;\n",
              "      width: 32px;\n",
              "    }\n",
              "\n",
              "    .colab-df-convert:hover {\n",
              "      background-color: #E2EBFA;\n",
              "      box-shadow: 0px 1px 2px rgba(60, 64, 67, 0.3), 0px 1px 3px 1px rgba(60, 64, 67, 0.15);\n",
              "      fill: #174EA6;\n",
              "    }\n",
              "\n",
              "    [theme=dark] .colab-df-convert {\n",
              "      background-color: #3B4455;\n",
              "      fill: #D2E3FC;\n",
              "    }\n",
              "\n",
              "    [theme=dark] .colab-df-convert:hover {\n",
              "      background-color: #434B5C;\n",
              "      box-shadow: 0px 1px 3px 1px rgba(0, 0, 0, 0.15);\n",
              "      filter: drop-shadow(0px 1px 2px rgba(0, 0, 0, 0.3));\n",
              "      fill: #FFFFFF;\n",
              "    }\n",
              "  </style>\n",
              "\n",
              "      <script>\n",
              "        const buttonEl =\n",
              "          document.querySelector('#df-348d7b71-1c60-4690-bbbd-e7c5db9ace42 button.colab-df-convert');\n",
              "        buttonEl.style.display =\n",
              "          google.colab.kernel.accessAllowed ? 'block' : 'none';\n",
              "\n",
              "        async function convertToInteractive(key) {\n",
              "          const element = document.querySelector('#df-348d7b71-1c60-4690-bbbd-e7c5db9ace42');\n",
              "          const dataTable =\n",
              "            await google.colab.kernel.invokeFunction('convertToInteractive',\n",
              "                                                     [key], {});\n",
              "          if (!dataTable) return;\n",
              "\n",
              "          const docLinkHtml = 'Like what you see? Visit the ' +\n",
              "            '<a target=\"_blank\" href=https://colab.research.google.com/notebooks/data_table.ipynb>data table notebook</a>'\n",
              "            + ' to learn more about interactive tables.';\n",
              "          element.innerHTML = '';\n",
              "          dataTable['output_type'] = 'display_data';\n",
              "          await google.colab.output.renderOutput(dataTable, element);\n",
              "          const docLink = document.createElement('div');\n",
              "          docLink.innerHTML = docLinkHtml;\n",
              "          element.appendChild(docLink);\n",
              "        }\n",
              "      </script>\n",
              "    </div>\n",
              "  </div>\n",
              "  "
            ]
          },
          "metadata": {},
          "execution_count": 168
        }
      ]
    },
    {
      "cell_type": "code",
      "source": [
        "df.groupby('Region')[['Unit Price', 'Units']].mean()"
      ],
      "metadata": {
        "colab": {
          "base_uri": "https://localhost:8080/",
          "height": 175
        },
        "id": "7RbJTi5nPYap",
        "outputId": "205dc195-bb94-42fa-e2af-8b0661b1b627"
      },
      "execution_count": null,
      "outputs": [
        {
          "output_type": "execute_result",
          "data": {
            "text/plain": [
              "         Unit Price      Units\n",
              "Region                        \n",
              "Central   18.018750  49.958333\n",
              "East       9.143846  53.153846\n",
              "West      53.658333  38.500000"
            ],
            "text/html": [
              "\n",
              "  <div id=\"df-1b6e070e-0529-49ba-b58d-52ce56fa6abe\">\n",
              "    <div class=\"colab-df-container\">\n",
              "      <div>\n",
              "<style scoped>\n",
              "    .dataframe tbody tr th:only-of-type {\n",
              "        vertical-align: middle;\n",
              "    }\n",
              "\n",
              "    .dataframe tbody tr th {\n",
              "        vertical-align: top;\n",
              "    }\n",
              "\n",
              "    .dataframe thead th {\n",
              "        text-align: right;\n",
              "    }\n",
              "</style>\n",
              "<table border=\"1\" class=\"dataframe\">\n",
              "  <thead>\n",
              "    <tr style=\"text-align: right;\">\n",
              "      <th></th>\n",
              "      <th>Unit Price</th>\n",
              "      <th>Units</th>\n",
              "    </tr>\n",
              "    <tr>\n",
              "      <th>Region</th>\n",
              "      <th></th>\n",
              "      <th></th>\n",
              "    </tr>\n",
              "  </thead>\n",
              "  <tbody>\n",
              "    <tr>\n",
              "      <th>Central</th>\n",
              "      <td>18.018750</td>\n",
              "      <td>49.958333</td>\n",
              "    </tr>\n",
              "    <tr>\n",
              "      <th>East</th>\n",
              "      <td>9.143846</td>\n",
              "      <td>53.153846</td>\n",
              "    </tr>\n",
              "    <tr>\n",
              "      <th>West</th>\n",
              "      <td>53.658333</td>\n",
              "      <td>38.500000</td>\n",
              "    </tr>\n",
              "  </tbody>\n",
              "</table>\n",
              "</div>\n",
              "      <button class=\"colab-df-convert\" onclick=\"convertToInteractive('df-1b6e070e-0529-49ba-b58d-52ce56fa6abe')\"\n",
              "              title=\"Convert this dataframe to an interactive table.\"\n",
              "              style=\"display:none;\">\n",
              "        \n",
              "  <svg xmlns=\"http://www.w3.org/2000/svg\" height=\"24px\"viewBox=\"0 0 24 24\"\n",
              "       width=\"24px\">\n",
              "    <path d=\"M0 0h24v24H0V0z\" fill=\"none\"/>\n",
              "    <path d=\"M18.56 5.44l.94 2.06.94-2.06 2.06-.94-2.06-.94-.94-2.06-.94 2.06-2.06.94zm-11 1L8.5 8.5l.94-2.06 2.06-.94-2.06-.94L8.5 2.5l-.94 2.06-2.06.94zm10 10l.94 2.06.94-2.06 2.06-.94-2.06-.94-.94-2.06-.94 2.06-2.06.94z\"/><path d=\"M17.41 7.96l-1.37-1.37c-.4-.4-.92-.59-1.43-.59-.52 0-1.04.2-1.43.59L10.3 9.45l-7.72 7.72c-.78.78-.78 2.05 0 2.83L4 21.41c.39.39.9.59 1.41.59.51 0 1.02-.2 1.41-.59l7.78-7.78 2.81-2.81c.8-.78.8-2.07 0-2.86zM5.41 20L4 18.59l7.72-7.72 1.47 1.35L5.41 20z\"/>\n",
              "  </svg>\n",
              "      </button>\n",
              "      \n",
              "  <style>\n",
              "    .colab-df-container {\n",
              "      display:flex;\n",
              "      flex-wrap:wrap;\n",
              "      gap: 12px;\n",
              "    }\n",
              "\n",
              "    .colab-df-convert {\n",
              "      background-color: #E8F0FE;\n",
              "      border: none;\n",
              "      border-radius: 50%;\n",
              "      cursor: pointer;\n",
              "      display: none;\n",
              "      fill: #1967D2;\n",
              "      height: 32px;\n",
              "      padding: 0 0 0 0;\n",
              "      width: 32px;\n",
              "    }\n",
              "\n",
              "    .colab-df-convert:hover {\n",
              "      background-color: #E2EBFA;\n",
              "      box-shadow: 0px 1px 2px rgba(60, 64, 67, 0.3), 0px 1px 3px 1px rgba(60, 64, 67, 0.15);\n",
              "      fill: #174EA6;\n",
              "    }\n",
              "\n",
              "    [theme=dark] .colab-df-convert {\n",
              "      background-color: #3B4455;\n",
              "      fill: #D2E3FC;\n",
              "    }\n",
              "\n",
              "    [theme=dark] .colab-df-convert:hover {\n",
              "      background-color: #434B5C;\n",
              "      box-shadow: 0px 1px 3px 1px rgba(0, 0, 0, 0.15);\n",
              "      filter: drop-shadow(0px 1px 2px rgba(0, 0, 0, 0.3));\n",
              "      fill: #FFFFFF;\n",
              "    }\n",
              "  </style>\n",
              "\n",
              "      <script>\n",
              "        const buttonEl =\n",
              "          document.querySelector('#df-1b6e070e-0529-49ba-b58d-52ce56fa6abe button.colab-df-convert');\n",
              "        buttonEl.style.display =\n",
              "          google.colab.kernel.accessAllowed ? 'block' : 'none';\n",
              "\n",
              "        async function convertToInteractive(key) {\n",
              "          const element = document.querySelector('#df-1b6e070e-0529-49ba-b58d-52ce56fa6abe');\n",
              "          const dataTable =\n",
              "            await google.colab.kernel.invokeFunction('convertToInteractive',\n",
              "                                                     [key], {});\n",
              "          if (!dataTable) return;\n",
              "\n",
              "          const docLinkHtml = 'Like what you see? Visit the ' +\n",
              "            '<a target=\"_blank\" href=https://colab.research.google.com/notebooks/data_table.ipynb>data table notebook</a>'\n",
              "            + ' to learn more about interactive tables.';\n",
              "          element.innerHTML = '';\n",
              "          dataTable['output_type'] = 'display_data';\n",
              "          await google.colab.output.renderOutput(dataTable, element);\n",
              "          const docLink = document.createElement('div');\n",
              "          docLink.innerHTML = docLinkHtml;\n",
              "          element.appendChild(docLink);\n",
              "        }\n",
              "      </script>\n",
              "    </div>\n",
              "  </div>\n",
              "  "
            ]
          },
          "metadata": {},
          "execution_count": 169
        }
      ]
    },
    {
      "cell_type": "code",
      "source": [
        "pd.pivot_table(df, index = ['Region'], values = ['Unit Price', 'Units'], aggfunc = np.mean)"
      ],
      "metadata": {
        "colab": {
          "base_uri": "https://localhost:8080/",
          "height": 175
        },
        "id": "R4WCPrVtPy3w",
        "outputId": "7e7af5bd-cb33-4447-d325-4fd4b020cd76"
      },
      "execution_count": null,
      "outputs": [
        {
          "output_type": "execute_result",
          "data": {
            "text/plain": [
              "         Unit Price      Units\n",
              "Region                        \n",
              "Central   18.018750  49.958333\n",
              "East       9.143846  53.153846\n",
              "West      53.658333  38.500000"
            ],
            "text/html": [
              "\n",
              "  <div id=\"df-354479f1-fa38-406f-a921-9d7080c62938\">\n",
              "    <div class=\"colab-df-container\">\n",
              "      <div>\n",
              "<style scoped>\n",
              "    .dataframe tbody tr th:only-of-type {\n",
              "        vertical-align: middle;\n",
              "    }\n",
              "\n",
              "    .dataframe tbody tr th {\n",
              "        vertical-align: top;\n",
              "    }\n",
              "\n",
              "    .dataframe thead th {\n",
              "        text-align: right;\n",
              "    }\n",
              "</style>\n",
              "<table border=\"1\" class=\"dataframe\">\n",
              "  <thead>\n",
              "    <tr style=\"text-align: right;\">\n",
              "      <th></th>\n",
              "      <th>Unit Price</th>\n",
              "      <th>Units</th>\n",
              "    </tr>\n",
              "    <tr>\n",
              "      <th>Region</th>\n",
              "      <th></th>\n",
              "      <th></th>\n",
              "    </tr>\n",
              "  </thead>\n",
              "  <tbody>\n",
              "    <tr>\n",
              "      <th>Central</th>\n",
              "      <td>18.018750</td>\n",
              "      <td>49.958333</td>\n",
              "    </tr>\n",
              "    <tr>\n",
              "      <th>East</th>\n",
              "      <td>9.143846</td>\n",
              "      <td>53.153846</td>\n",
              "    </tr>\n",
              "    <tr>\n",
              "      <th>West</th>\n",
              "      <td>53.658333</td>\n",
              "      <td>38.500000</td>\n",
              "    </tr>\n",
              "  </tbody>\n",
              "</table>\n",
              "</div>\n",
              "      <button class=\"colab-df-convert\" onclick=\"convertToInteractive('df-354479f1-fa38-406f-a921-9d7080c62938')\"\n",
              "              title=\"Convert this dataframe to an interactive table.\"\n",
              "              style=\"display:none;\">\n",
              "        \n",
              "  <svg xmlns=\"http://www.w3.org/2000/svg\" height=\"24px\"viewBox=\"0 0 24 24\"\n",
              "       width=\"24px\">\n",
              "    <path d=\"M0 0h24v24H0V0z\" fill=\"none\"/>\n",
              "    <path d=\"M18.56 5.44l.94 2.06.94-2.06 2.06-.94-2.06-.94-.94-2.06-.94 2.06-2.06.94zm-11 1L8.5 8.5l.94-2.06 2.06-.94-2.06-.94L8.5 2.5l-.94 2.06-2.06.94zm10 10l.94 2.06.94-2.06 2.06-.94-2.06-.94-.94-2.06-.94 2.06-2.06.94z\"/><path d=\"M17.41 7.96l-1.37-1.37c-.4-.4-.92-.59-1.43-.59-.52 0-1.04.2-1.43.59L10.3 9.45l-7.72 7.72c-.78.78-.78 2.05 0 2.83L4 21.41c.39.39.9.59 1.41.59.51 0 1.02-.2 1.41-.59l7.78-7.78 2.81-2.81c.8-.78.8-2.07 0-2.86zM5.41 20L4 18.59l7.72-7.72 1.47 1.35L5.41 20z\"/>\n",
              "  </svg>\n",
              "      </button>\n",
              "      \n",
              "  <style>\n",
              "    .colab-df-container {\n",
              "      display:flex;\n",
              "      flex-wrap:wrap;\n",
              "      gap: 12px;\n",
              "    }\n",
              "\n",
              "    .colab-df-convert {\n",
              "      background-color: #E8F0FE;\n",
              "      border: none;\n",
              "      border-radius: 50%;\n",
              "      cursor: pointer;\n",
              "      display: none;\n",
              "      fill: #1967D2;\n",
              "      height: 32px;\n",
              "      padding: 0 0 0 0;\n",
              "      width: 32px;\n",
              "    }\n",
              "\n",
              "    .colab-df-convert:hover {\n",
              "      background-color: #E2EBFA;\n",
              "      box-shadow: 0px 1px 2px rgba(60, 64, 67, 0.3), 0px 1px 3px 1px rgba(60, 64, 67, 0.15);\n",
              "      fill: #174EA6;\n",
              "    }\n",
              "\n",
              "    [theme=dark] .colab-df-convert {\n",
              "      background-color: #3B4455;\n",
              "      fill: #D2E3FC;\n",
              "    }\n",
              "\n",
              "    [theme=dark] .colab-df-convert:hover {\n",
              "      background-color: #434B5C;\n",
              "      box-shadow: 0px 1px 3px 1px rgba(0, 0, 0, 0.15);\n",
              "      filter: drop-shadow(0px 1px 2px rgba(0, 0, 0, 0.3));\n",
              "      fill: #FFFFFF;\n",
              "    }\n",
              "  </style>\n",
              "\n",
              "      <script>\n",
              "        const buttonEl =\n",
              "          document.querySelector('#df-354479f1-fa38-406f-a921-9d7080c62938 button.colab-df-convert');\n",
              "        buttonEl.style.display =\n",
              "          google.colab.kernel.accessAllowed ? 'block' : 'none';\n",
              "\n",
              "        async function convertToInteractive(key) {\n",
              "          const element = document.querySelector('#df-354479f1-fa38-406f-a921-9d7080c62938');\n",
              "          const dataTable =\n",
              "            await google.colab.kernel.invokeFunction('convertToInteractive',\n",
              "                                                     [key], {});\n",
              "          if (!dataTable) return;\n",
              "\n",
              "          const docLinkHtml = 'Like what you see? Visit the ' +\n",
              "            '<a target=\"_blank\" href=https://colab.research.google.com/notebooks/data_table.ipynb>data table notebook</a>'\n",
              "            + ' to learn more about interactive tables.';\n",
              "          element.innerHTML = '';\n",
              "          dataTable['output_type'] = 'display_data';\n",
              "          await google.colab.output.renderOutput(dataTable, element);\n",
              "          const docLink = document.createElement('div');\n",
              "          docLink.innerHTML = docLinkHtml;\n",
              "          element.appendChild(docLink);\n",
              "        }\n",
              "      </script>\n",
              "    </div>\n",
              "  </div>\n",
              "  "
            ]
          },
          "metadata": {},
          "execution_count": 170
        }
      ]
    },
    {
      "cell_type": "code",
      "source": [
        "pd.pivot_table(df, index = ['Region', 'Item'], values = ['Amount'], aggfunc = np.sum, fill_value = 0)"
      ],
      "metadata": {
        "colab": {
          "base_uri": "https://localhost:8080/",
          "height": 488
        },
        "id": "m-XQeKFuQUMx",
        "outputId": "ac7b6dbb-426e-4253-c388-5c524c04f452"
      },
      "execution_count": null,
      "outputs": [
        {
          "output_type": "execute_result",
          "data": {
            "text/plain": [
              "                  Amount\n",
              "Region  Item            \n",
              "Central Binder   5762.63\n",
              "        Desk      875.00\n",
              "        Pen       539.73\n",
              "        Pen Set  2421.39\n",
              "        Pencil   1540.32\n",
              "East    Binder   2535.66\n",
              "        Pen      1354.25\n",
              "        Pen Set  1748.48\n",
              "        Pencil    363.70\n",
              "West    Binder   1279.36\n",
              "        Desk      825.00\n",
              "        Pen       151.24\n",
              "        Pencil    231.12"
            ],
            "text/html": [
              "\n",
              "  <div id=\"df-058844b0-5e32-44b8-8cf6-e23ab46ee42a\">\n",
              "    <div class=\"colab-df-container\">\n",
              "      <div>\n",
              "<style scoped>\n",
              "    .dataframe tbody tr th:only-of-type {\n",
              "        vertical-align: middle;\n",
              "    }\n",
              "\n",
              "    .dataframe tbody tr th {\n",
              "        vertical-align: top;\n",
              "    }\n",
              "\n",
              "    .dataframe thead th {\n",
              "        text-align: right;\n",
              "    }\n",
              "</style>\n",
              "<table border=\"1\" class=\"dataframe\">\n",
              "  <thead>\n",
              "    <tr style=\"text-align: right;\">\n",
              "      <th></th>\n",
              "      <th></th>\n",
              "      <th>Amount</th>\n",
              "    </tr>\n",
              "    <tr>\n",
              "      <th>Region</th>\n",
              "      <th>Item</th>\n",
              "      <th></th>\n",
              "    </tr>\n",
              "  </thead>\n",
              "  <tbody>\n",
              "    <tr>\n",
              "      <th rowspan=\"5\" valign=\"top\">Central</th>\n",
              "      <th>Binder</th>\n",
              "      <td>5762.63</td>\n",
              "    </tr>\n",
              "    <tr>\n",
              "      <th>Desk</th>\n",
              "      <td>875.00</td>\n",
              "    </tr>\n",
              "    <tr>\n",
              "      <th>Pen</th>\n",
              "      <td>539.73</td>\n",
              "    </tr>\n",
              "    <tr>\n",
              "      <th>Pen Set</th>\n",
              "      <td>2421.39</td>\n",
              "    </tr>\n",
              "    <tr>\n",
              "      <th>Pencil</th>\n",
              "      <td>1540.32</td>\n",
              "    </tr>\n",
              "    <tr>\n",
              "      <th rowspan=\"4\" valign=\"top\">East</th>\n",
              "      <th>Binder</th>\n",
              "      <td>2535.66</td>\n",
              "    </tr>\n",
              "    <tr>\n",
              "      <th>Pen</th>\n",
              "      <td>1354.25</td>\n",
              "    </tr>\n",
              "    <tr>\n",
              "      <th>Pen Set</th>\n",
              "      <td>1748.48</td>\n",
              "    </tr>\n",
              "    <tr>\n",
              "      <th>Pencil</th>\n",
              "      <td>363.70</td>\n",
              "    </tr>\n",
              "    <tr>\n",
              "      <th rowspan=\"4\" valign=\"top\">West</th>\n",
              "      <th>Binder</th>\n",
              "      <td>1279.36</td>\n",
              "    </tr>\n",
              "    <tr>\n",
              "      <th>Desk</th>\n",
              "      <td>825.00</td>\n",
              "    </tr>\n",
              "    <tr>\n",
              "      <th>Pen</th>\n",
              "      <td>151.24</td>\n",
              "    </tr>\n",
              "    <tr>\n",
              "      <th>Pencil</th>\n",
              "      <td>231.12</td>\n",
              "    </tr>\n",
              "  </tbody>\n",
              "</table>\n",
              "</div>\n",
              "      <button class=\"colab-df-convert\" onclick=\"convertToInteractive('df-058844b0-5e32-44b8-8cf6-e23ab46ee42a')\"\n",
              "              title=\"Convert this dataframe to an interactive table.\"\n",
              "              style=\"display:none;\">\n",
              "        \n",
              "  <svg xmlns=\"http://www.w3.org/2000/svg\" height=\"24px\"viewBox=\"0 0 24 24\"\n",
              "       width=\"24px\">\n",
              "    <path d=\"M0 0h24v24H0V0z\" fill=\"none\"/>\n",
              "    <path d=\"M18.56 5.44l.94 2.06.94-2.06 2.06-.94-2.06-.94-.94-2.06-.94 2.06-2.06.94zm-11 1L8.5 8.5l.94-2.06 2.06-.94-2.06-.94L8.5 2.5l-.94 2.06-2.06.94zm10 10l.94 2.06.94-2.06 2.06-.94-2.06-.94-.94-2.06-.94 2.06-2.06.94z\"/><path d=\"M17.41 7.96l-1.37-1.37c-.4-.4-.92-.59-1.43-.59-.52 0-1.04.2-1.43.59L10.3 9.45l-7.72 7.72c-.78.78-.78 2.05 0 2.83L4 21.41c.39.39.9.59 1.41.59.51 0 1.02-.2 1.41-.59l7.78-7.78 2.81-2.81c.8-.78.8-2.07 0-2.86zM5.41 20L4 18.59l7.72-7.72 1.47 1.35L5.41 20z\"/>\n",
              "  </svg>\n",
              "      </button>\n",
              "      \n",
              "  <style>\n",
              "    .colab-df-container {\n",
              "      display:flex;\n",
              "      flex-wrap:wrap;\n",
              "      gap: 12px;\n",
              "    }\n",
              "\n",
              "    .colab-df-convert {\n",
              "      background-color: #E8F0FE;\n",
              "      border: none;\n",
              "      border-radius: 50%;\n",
              "      cursor: pointer;\n",
              "      display: none;\n",
              "      fill: #1967D2;\n",
              "      height: 32px;\n",
              "      padding: 0 0 0 0;\n",
              "      width: 32px;\n",
              "    }\n",
              "\n",
              "    .colab-df-convert:hover {\n",
              "      background-color: #E2EBFA;\n",
              "      box-shadow: 0px 1px 2px rgba(60, 64, 67, 0.3), 0px 1px 3px 1px rgba(60, 64, 67, 0.15);\n",
              "      fill: #174EA6;\n",
              "    }\n",
              "\n",
              "    [theme=dark] .colab-df-convert {\n",
              "      background-color: #3B4455;\n",
              "      fill: #D2E3FC;\n",
              "    }\n",
              "\n",
              "    [theme=dark] .colab-df-convert:hover {\n",
              "      background-color: #434B5C;\n",
              "      box-shadow: 0px 1px 3px 1px rgba(0, 0, 0, 0.15);\n",
              "      filter: drop-shadow(0px 1px 2px rgba(0, 0, 0, 0.3));\n",
              "      fill: #FFFFFF;\n",
              "    }\n",
              "  </style>\n",
              "\n",
              "      <script>\n",
              "        const buttonEl =\n",
              "          document.querySelector('#df-058844b0-5e32-44b8-8cf6-e23ab46ee42a button.colab-df-convert');\n",
              "        buttonEl.style.display =\n",
              "          google.colab.kernel.accessAllowed ? 'block' : 'none';\n",
              "\n",
              "        async function convertToInteractive(key) {\n",
              "          const element = document.querySelector('#df-058844b0-5e32-44b8-8cf6-e23ab46ee42a');\n",
              "          const dataTable =\n",
              "            await google.colab.kernel.invokeFunction('convertToInteractive',\n",
              "                                                     [key], {});\n",
              "          if (!dataTable) return;\n",
              "\n",
              "          const docLinkHtml = 'Like what you see? Visit the ' +\n",
              "            '<a target=\"_blank\" href=https://colab.research.google.com/notebooks/data_table.ipynb>data table notebook</a>'\n",
              "            + ' to learn more about interactive tables.';\n",
              "          element.innerHTML = '';\n",
              "          dataTable['output_type'] = 'display_data';\n",
              "          await google.colab.output.renderOutput(dataTable, element);\n",
              "          const docLink = document.createElement('div');\n",
              "          docLink.innerHTML = docLinkHtml;\n",
              "          element.appendChild(docLink);\n",
              "        }\n",
              "      </script>\n",
              "    </div>\n",
              "  </div>\n",
              "  "
            ]
          },
          "metadata": {},
          "execution_count": 171
        }
      ]
    },
    {
      "cell_type": "markdown",
      "source": [
        "## Question 4"
      ],
      "metadata": {
        "id": "vWUeVyjzQyw6"
      }
    },
    {
      "cell_type": "code",
      "source": [
        "import pandas as pd\n",
        "import numpy as np\n",
        "import os\n",
        "import matplotlib.pyplot as plt\n",
        "%matplotlib inline\n",
        "\n",
        "df = pd.read_csv('/content/drive/MyDrive/datasets/test/data_coffeeshop.csv', header='infer',na_values=[' '])\n",
        "df.shape\n",
        "df.head(5)\n"
      ],
      "metadata": {
        "colab": {
          "base_uri": "https://localhost:8080/",
          "height": 206
        },
        "id": "D-ZCfLMpQwTb",
        "outputId": "6f866325-6a1a-4b6f-d11b-b6f1655b3db2"
      },
      "execution_count": null,
      "outputs": [
        {
          "output_type": "execute_result",
          "data": {
            "text/plain": [
              "   Year of Start Current State  Size of Site\n",
              "0         2008.0            In         20.80\n",
              "1         2010.0            In        212.72\n",
              "2         2013.0            In         20.04\n",
              "3         2012.0            In         64.17\n",
              "4         2002.0           Out         11.40"
            ],
            "text/html": [
              "\n",
              "  <div id=\"df-e5665d5e-6d58-46e6-8aa4-6eac329afb2c\">\n",
              "    <div class=\"colab-df-container\">\n",
              "      <div>\n",
              "<style scoped>\n",
              "    .dataframe tbody tr th:only-of-type {\n",
              "        vertical-align: middle;\n",
              "    }\n",
              "\n",
              "    .dataframe tbody tr th {\n",
              "        vertical-align: top;\n",
              "    }\n",
              "\n",
              "    .dataframe thead th {\n",
              "        text-align: right;\n",
              "    }\n",
              "</style>\n",
              "<table border=\"1\" class=\"dataframe\">\n",
              "  <thead>\n",
              "    <tr style=\"text-align: right;\">\n",
              "      <th></th>\n",
              "      <th>Year of Start</th>\n",
              "      <th>Current State</th>\n",
              "      <th>Size of Site</th>\n",
              "    </tr>\n",
              "  </thead>\n",
              "  <tbody>\n",
              "    <tr>\n",
              "      <th>0</th>\n",
              "      <td>2008.0</td>\n",
              "      <td>In</td>\n",
              "      <td>20.80</td>\n",
              "    </tr>\n",
              "    <tr>\n",
              "      <th>1</th>\n",
              "      <td>2010.0</td>\n",
              "      <td>In</td>\n",
              "      <td>212.72</td>\n",
              "    </tr>\n",
              "    <tr>\n",
              "      <th>2</th>\n",
              "      <td>2013.0</td>\n",
              "      <td>In</td>\n",
              "      <td>20.04</td>\n",
              "    </tr>\n",
              "    <tr>\n",
              "      <th>3</th>\n",
              "      <td>2012.0</td>\n",
              "      <td>In</td>\n",
              "      <td>64.17</td>\n",
              "    </tr>\n",
              "    <tr>\n",
              "      <th>4</th>\n",
              "      <td>2002.0</td>\n",
              "      <td>Out</td>\n",
              "      <td>11.40</td>\n",
              "    </tr>\n",
              "  </tbody>\n",
              "</table>\n",
              "</div>\n",
              "      <button class=\"colab-df-convert\" onclick=\"convertToInteractive('df-e5665d5e-6d58-46e6-8aa4-6eac329afb2c')\"\n",
              "              title=\"Convert this dataframe to an interactive table.\"\n",
              "              style=\"display:none;\">\n",
              "        \n",
              "  <svg xmlns=\"http://www.w3.org/2000/svg\" height=\"24px\"viewBox=\"0 0 24 24\"\n",
              "       width=\"24px\">\n",
              "    <path d=\"M0 0h24v24H0V0z\" fill=\"none\"/>\n",
              "    <path d=\"M18.56 5.44l.94 2.06.94-2.06 2.06-.94-2.06-.94-.94-2.06-.94 2.06-2.06.94zm-11 1L8.5 8.5l.94-2.06 2.06-.94-2.06-.94L8.5 2.5l-.94 2.06-2.06.94zm10 10l.94 2.06.94-2.06 2.06-.94-2.06-.94-.94-2.06-.94 2.06-2.06.94z\"/><path d=\"M17.41 7.96l-1.37-1.37c-.4-.4-.92-.59-1.43-.59-.52 0-1.04.2-1.43.59L10.3 9.45l-7.72 7.72c-.78.78-.78 2.05 0 2.83L4 21.41c.39.39.9.59 1.41.59.51 0 1.02-.2 1.41-.59l7.78-7.78 2.81-2.81c.8-.78.8-2.07 0-2.86zM5.41 20L4 18.59l7.72-7.72 1.47 1.35L5.41 20z\"/>\n",
              "  </svg>\n",
              "      </button>\n",
              "      \n",
              "  <style>\n",
              "    .colab-df-container {\n",
              "      display:flex;\n",
              "      flex-wrap:wrap;\n",
              "      gap: 12px;\n",
              "    }\n",
              "\n",
              "    .colab-df-convert {\n",
              "      background-color: #E8F0FE;\n",
              "      border: none;\n",
              "      border-radius: 50%;\n",
              "      cursor: pointer;\n",
              "      display: none;\n",
              "      fill: #1967D2;\n",
              "      height: 32px;\n",
              "      padding: 0 0 0 0;\n",
              "      width: 32px;\n",
              "    }\n",
              "\n",
              "    .colab-df-convert:hover {\n",
              "      background-color: #E2EBFA;\n",
              "      box-shadow: 0px 1px 2px rgba(60, 64, 67, 0.3), 0px 1px 3px 1px rgba(60, 64, 67, 0.15);\n",
              "      fill: #174EA6;\n",
              "    }\n",
              "\n",
              "    [theme=dark] .colab-df-convert {\n",
              "      background-color: #3B4455;\n",
              "      fill: #D2E3FC;\n",
              "    }\n",
              "\n",
              "    [theme=dark] .colab-df-convert:hover {\n",
              "      background-color: #434B5C;\n",
              "      box-shadow: 0px 1px 3px 1px rgba(0, 0, 0, 0.15);\n",
              "      filter: drop-shadow(0px 1px 2px rgba(0, 0, 0, 0.3));\n",
              "      fill: #FFFFFF;\n",
              "    }\n",
              "  </style>\n",
              "\n",
              "      <script>\n",
              "        const buttonEl =\n",
              "          document.querySelector('#df-e5665d5e-6d58-46e6-8aa4-6eac329afb2c button.colab-df-convert');\n",
              "        buttonEl.style.display =\n",
              "          google.colab.kernel.accessAllowed ? 'block' : 'none';\n",
              "\n",
              "        async function convertToInteractive(key) {\n",
              "          const element = document.querySelector('#df-e5665d5e-6d58-46e6-8aa4-6eac329afb2c');\n",
              "          const dataTable =\n",
              "            await google.colab.kernel.invokeFunction('convertToInteractive',\n",
              "                                                     [key], {});\n",
              "          if (!dataTable) return;\n",
              "\n",
              "          const docLinkHtml = 'Like what you see? Visit the ' +\n",
              "            '<a target=\"_blank\" href=https://colab.research.google.com/notebooks/data_table.ipynb>data table notebook</a>'\n",
              "            + ' to learn more about interactive tables.';\n",
              "          element.innerHTML = '';\n",
              "          dataTable['output_type'] = 'display_data';\n",
              "          await google.colab.output.renderOutput(dataTable, element);\n",
              "          const docLink = document.createElement('div');\n",
              "          docLink.innerHTML = docLinkHtml;\n",
              "          element.appendChild(docLink);\n",
              "        }\n",
              "      </script>\n",
              "    </div>\n",
              "  </div>\n",
              "  "
            ]
          },
          "metadata": {},
          "execution_count": 172
        }
      ]
    },
    {
      "cell_type": "code",
      "source": [
        "df_f = df['Year of Start'].value_counts()\n",
        "df_f = df_f.sort_values(ascending = True)\n",
        "df_f.sort_index(inplace = True)\n",
        "fig, axs = plt.subplots()\n",
        "axs.set_xlim(1997, 2014)\n",
        "axs.plot(df_f)"
      ],
      "metadata": {
        "colab": {
          "base_uri": "https://localhost:8080/",
          "height": 282
        },
        "id": "SZ7EGOQcRFp-",
        "outputId": "045545c4-c806-478a-8791-ae6807012db8"
      },
      "execution_count": null,
      "outputs": [
        {
          "output_type": "execute_result",
          "data": {
            "text/plain": [
              "[<matplotlib.lines.Line2D at 0x7f67e9ae7f50>]"
            ]
          },
          "metadata": {},
          "execution_count": 173
        },
        {
          "output_type": "display_data",
          "data": {
            "text/plain": [
              "<Figure size 432x288 with 1 Axes>"
            ],
            "image/png": "[encoded data removed]"
          },
          "metadata": {
            "needs_background": "light"
          }
        }
      ]
    },
    {
      "cell_type": "code",
      "source": [
        "df_in = df[df['Current State'] == 'In']['Year of Start'].value_counts()\n",
        "df_out = df[df['Current State'] == 'Out']['Year of Start'].value_counts()\n",
        "df_in.sort_values(ascending = True, inplace = True)\n",
        "df_out.sort_values(ascending = True, inplace = True)\n",
        "\n",
        "df_in.sort_index(ascending = True, inplace = True)\n",
        "df_out.sort_index(ascending = True, inplace = True)\n",
        "\n",
        "fig, axs = plt.subplots()\n",
        "fig.suptitle(\"\")\n",
        "plt.xlim(1997, 2014)\n",
        "axs.plot(df_in)\n",
        "axs.plot(df_out, c='red')"
      ],
      "metadata": {
        "colab": {
          "base_uri": "https://localhost:8080/",
          "height": 300
        },
        "id": "6d4eUnFFRYFd",
        "outputId": "7e9f7a5d-fc7d-4033-d6c6-5717e2cc31df"
      },
      "execution_count": null,
      "outputs": [
        {
          "output_type": "stream",
          "name": "stdout",
          "text": [
            "<class 'matplotlib.figure.Figure'>\n"
          ]
        },
        {
          "output_type": "execute_result",
          "data": {
            "text/plain": [
              "[<matplotlib.lines.Line2D at 0x7f67e99c3890>]"
            ]
          },
          "metadata": {},
          "execution_count": 219
        },
        {
          "output_type": "display_data",
          "data": {
            "text/plain": [
              "<Figure size 432x288 with 1 Axes>"
            ],
            "image/png": "[encoded data removed]"
          },
          "metadata": {
            "needs_background": "light"
          }
        }
      ]
    },
    {
      "cell_type": "markdown",
      "source": [
        "#####these plots show us how many coffee shops emerged from 1997, until 2014.\n",
        "#####until 2009, we can see from the second plot that the frequency of coffee shops opening that are in and out of business is almost the same, meaning that almost as many shops that opened that are in business are out of business.\n",
        "#####however starting 2009, we can tell from the first plot that the number of coffee shops opening has drastically risen.\n",
        "#####and from the second plot we can see that most of these coffee shops are still in business, while the rest is out of business.\n",
        "#####we can conclude that as time goes on, there are way more coffee shops that open, and most of them remain in business."
      ],
      "metadata": {
        "id": "uAp19mMvXEXV"
      }
    },
    {
      "cell_type": "markdown",
      "source": [
        "## Question 5"
      ],
      "metadata": {
        "id": "r8kDYex2Xo5f"
      }
    },
    {
      "cell_type": "code",
      "source": [
        "#the correct syntax is 2\n",
        "np.array([1,2,3,4,5])"
      ],
      "metadata": {
        "colab": {
          "base_uri": "https://localhost:8080/"
        },
        "id": "-VVffNt9Xskt",
        "outputId": "7975ba9e-e58b-4f69-ee7a-e763b0144f76"
      },
      "execution_count": null,
      "outputs": [
        {
          "output_type": "execute_result",
          "data": {
            "text/plain": [
              "array([1, 2, 3, 4, 5])"
            ]
          },
          "metadata": {},
          "execution_count": 175
        }
      ]
    },
    {
      "cell_type": "markdown",
      "source": [
        "## Question 6"
      ],
      "metadata": {
        "id": "ssBLYHNcYKdA"
      }
    },
    {
      "cell_type": "code",
      "source": [
        "#the closest answer to the 2-D array is the array 2\n",
        "#an important note: the array as typed in the question must be a list and not a tuple so \n",
        "#[[1, 2, 3], [4, 5, 6]] instead of ([1, 2, 3], [4, 5, 6])\n",
        "np.array([[1, 2, 3], [4, 5, 6]]).ndim"
      ],
      "metadata": {
        "colab": {
          "base_uri": "https://localhost:8080/"
        },
        "id": "5xayaL65YIYc",
        "outputId": "6e515c50-f12e-4656-fc17-a074187c270b"
      },
      "execution_count": null,
      "outputs": [
        {
          "output_type": "execute_result",
          "data": {
            "text/plain": [
              "2"
            ]
          },
          "metadata": {},
          "execution_count": 176
        }
      ]
    },
    {
      "cell_type": "markdown",
      "source": [
        "## Question 7"
      ],
      "metadata": {
        "id": "qbFJKyPQYojW"
      }
    },
    {
      "cell_type": "code",
      "source": [
        "# as it is written, none, since the numpy module doesn't have attributes\n",
        "# and the methods are not methods to use directly with numpy module\n",
        "# one must first have an array and then use dim to get the dimensions\n",
        "# because dim is an attribute of the ndarray object (numpy array)\n",
        "# the closest but not exact answer will be number 4\n",
        "np.array([[1, 2, 3], [4, 5, 6]]).ndim"
      ],
      "metadata": {
        "colab": {
          "base_uri": "https://localhost:8080/"
        },
        "id": "MaUP8MdNY_5u",
        "outputId": "35f87b94-0a3c-4e29-c7c4-fcf3fe6bbf01"
      },
      "execution_count": null,
      "outputs": [
        {
          "output_type": "execute_result",
          "data": {
            "text/plain": [
              "2"
            ]
          },
          "metadata": {},
          "execution_count": 177
        }
      ]
    },
    {
      "cell_type": "markdown",
      "source": [
        "## Question 8"
      ],
      "metadata": {
        "id": "uPk3y-ZcaXZr"
      }
    },
    {
      "cell_type": "code",
      "source": [
        "# the correct syntax is 1, as array's index starts with 0:\n",
        "myArr = np.array([1,2,3,4,5,6])\n",
        "print(myArr[0])"
      ],
      "metadata": {
        "colab": {
          "base_uri": "https://localhost:8080/"
        },
        "id": "bbDvFEfaacf4",
        "outputId": "4017c7ff-25cc-423b-c785-df876650c29b"
      },
      "execution_count": null,
      "outputs": [
        {
          "output_type": "stream",
          "name": "stdout",
          "text": [
            "1\n"
          ]
        }
      ]
    },
    {
      "cell_type": "markdown",
      "source": [
        "## Question 9"
      ],
      "metadata": {
        "id": "abzMhOkEat_G"
      }
    },
    {
      "cell_type": "code",
      "source": [
        "arr = np.array([[1,2,3,4,5], [6,7,8,9,10]])\n",
        "#the correct answer is number 3:\n",
        "print(arr[1,2])"
      ],
      "metadata": {
        "colab": {
          "base_uri": "https://localhost:8080/"
        },
        "id": "L8tuN6-Kawr3",
        "outputId": "9f3eaefd-1952-4367-891c-89b838cac862"
      },
      "execution_count": null,
      "outputs": [
        {
          "output_type": "stream",
          "name": "stdout",
          "text": [
            "8\n"
          ]
        }
      ]
    },
    {
      "cell_type": "markdown",
      "source": [
        "## Question 10"
      ],
      "metadata": {
        "id": "dU-nVkepa-J7"
      }
    },
    {
      "cell_type": "code",
      "source": [
        "arr = np.array([1,2,3,4,5,6,7])\n",
        "#the correct answer is number 2\n",
        "print(arr[2:5])"
      ],
      "metadata": {
        "colab": {
          "base_uri": "https://localhost:8080/"
        },
        "id": "KXYavjRAa_32",
        "outputId": "4e9dfb7d-1d07-401f-ca5b-c02b8c2e7adb"
      },
      "execution_count": null,
      "outputs": [
        {
          "output_type": "stream",
          "name": "stdout",
          "text": [
            "[3 4 5]\n"
          ]
        }
      ]
    },
    {
      "cell_type": "markdown",
      "source": [
        "## Question 11"
      ],
      "metadata": {
        "id": "dJfAV4oSbOos"
      }
    },
    {
      "cell_type": "code",
      "source": [
        "#the correct answer is 2\n",
        "np.concatenate([arr, myArr])"
      ],
      "metadata": {
        "colab": {
          "base_uri": "https://localhost:8080/"
        },
        "id": "APAnB2ADbQW1",
        "outputId": "363019e2-4397-4cba-deb4-a92e8dae9d80"
      },
      "execution_count": null,
      "outputs": [
        {
          "output_type": "execute_result",
          "data": {
            "text/plain": [
              "array([1, 2, 3, 4, 5, 6, 7, 1, 2, 3, 4, 5, 6])"
            ]
          },
          "metadata": {},
          "execution_count": 183
        }
      ]
    },
    {
      "cell_type": "markdown",
      "source": [
        "## Question 12"
      ],
      "metadata": {
        "id": "KYyA9TdSccA7"
      }
    },
    {
      "cell_type": "code",
      "source": [
        "arr = np.array([1,4,3,4,5,4,4])\n",
        "#the correct answer is 3:\n",
        "np.where(arr == 4)"
      ],
      "metadata": {
        "colab": {
          "base_uri": "https://localhost:8080/"
        },
        "id": "BdmAan1ccec2",
        "outputId": "59ed5983-3bd7-45a2-bdfd-7e23e5a1168d"
      },
      "execution_count": null,
      "outputs": [
        {
          "output_type": "execute_result",
          "data": {
            "text/plain": [
              "(array([1, 3, 5, 6]),)"
            ]
          },
          "metadata": {},
          "execution_count": 187
        }
      ]
    },
    {
      "cell_type": "markdown",
      "source": [
        "## Question 13"
      ],
      "metadata": {
        "id": "BO5bXgO7cb5S"
      }
    },
    {
      "cell_type": "code",
      "source": [
        "#the correct answer is 3:\n",
        "np.random.randint(100)"
      ],
      "metadata": {
        "colab": {
          "base_uri": "https://localhost:8080/"
        },
        "id": "fkJ6k8GhczOv",
        "outputId": "de6739ad-ced3-4dee-ec51-1ece47488a38"
      },
      "execution_count": null,
      "outputs": [
        {
          "output_type": "execute_result",
          "data": {
            "text/plain": [
              "61"
            ]
          },
          "metadata": {},
          "execution_count": 189
        }
      ]
    },
    {
      "cell_type": "markdown",
      "source": [
        "## Question 14"
      ],
      "metadata": {
        "id": "99TUoRWSdGul"
      }
    },
    {
      "cell_type": "code",
      "source": [
        "#the correct answer is 1, as np.random.normal has the parameters size, loc and scale, nor mean, deviation, normal or s\n",
        "np.random.normal(size=1000, loc=50, scale=0.2)"
      ],
      "metadata": {
        "colab": {
          "base_uri": "https://localhost:8080/"
        },
        "id": "GCt-HJ3OdI4H",
        "outputId": "95cd00d6-8fd7-42f6-a339-a3a541911aed"
      },
      "execution_count": null,
      "outputs": [
        {
          "output_type": "execute_result",
          "data": {
            "text/plain": [
              "array([50.2298822 , 50.31521032, 49.73650183, 49.99630482, 50.15785865,\n",
              "       50.21785254, 49.9984457 , 50.01194234, 50.27366576, 50.28437367,\n",
              "       49.97501153, 50.00236621, 50.12674213, 49.91676869, 50.28379603,\n",
              "       50.18124959, 49.92870066, 49.81423273, 50.29297421, 50.3649615 ,\n",
              "       49.81555983, 49.8985468 , 50.08236658, 50.30084987, 50.31675472,\n",
              "       50.04294648, 49.93220067, 49.92179135, 49.92878243, 50.01482182,\n",
              "       49.86496624, 50.00036568, 50.11641518, 49.87074534, 50.06256532,\n",
              "       50.25396819, 49.97620386, 49.92694715, 50.1442866 , 50.18195965,\n",
              "       49.67652024, 49.88254439, 50.01491925, 50.21433686, 50.1696102 ,\n",
              "       49.94486059, 50.18703717, 50.02485519, 50.06238424, 49.8470648 ,\n",
              "       49.97152898, 50.0321769 , 50.22465647, 50.1065567 , 49.63743467,\n",
              "       50.26657136, 49.64790357, 49.73809399, 49.82081314, 50.00979787,\n",
              "       49.90071285, 50.25106574, 49.98212971, 49.93895181, 49.91479216,\n",
              "       49.78050937, 49.98171128, 50.08045787, 50.00697098, 49.81936944,\n",
              "       50.06174684, 50.03342923, 50.27571851, 50.50112392, 49.87458944,\n",
              "       49.86799392, 49.96281654, 49.92127501, 49.72169294, 49.81607743,\n",
              "       50.05480883, 50.30643417, 50.03247241, 50.23178102, 49.93803517,\n",
              "       49.7860372 , 49.74818168, 49.54674207, 50.00656371, 50.07857419,\n",
              "       50.27344808, 49.94243897, 50.05504996, 49.871124  , 50.12892284,\n",
              "       50.25728755, 49.94145851, 50.00711056, 49.844366  , 50.01519161,\n",
              "       50.03810186, 50.09151369, 50.33624799, 50.03910669, 49.98150147,\n",
              "       50.16942003, 50.26138273, 50.16187418, 49.69429634, 50.33588678,\n",
              "       50.00902914, 49.99005826, 50.0224729 , 49.71402832, 49.85102938,\n",
              "       50.01780172, 49.56988108, 49.8337793 , 50.02597722, 50.06167594,\n",
              "       49.74791311, 50.14685791, 50.03866844, 50.00671444, 50.04869975,\n",
              "       50.16943854, 49.64206686, 49.55790182, 49.90697279, 50.11802377,\n",
              "       50.10904041, 50.03894981, 50.24468333, 50.28260018, 50.28904664,\n",
              "       50.23296938, 50.1924835 , 50.31532542, 50.18744495, 50.07493742,\n",
              "       50.11121036, 50.13320616, 50.27203529, 50.14150409, 49.90154153,\n",
              "       50.41604534, 49.9862199 , 49.78388232, 49.84293854, 50.08787321,\n",
              "       50.05263369, 49.88246514, 49.86203111, 49.8264974 , 50.00145137,\n",
              "       49.77915092, 49.94531803, 49.55124755, 49.99015217, 50.01166165,\n",
              "       50.51235722, 50.29070457, 50.21141959, 49.96816227, 49.79535139,\n",
              "       50.03674545, 49.68708856, 49.62015376, 50.04365706, 50.18355597,\n",
              "       49.68812573, 50.02751247, 50.15369207, 49.97042803, 49.93566008,\n",
              "       50.06003078, 49.96392674, 49.83489567, 49.85552965, 50.25368171,\n",
              "       49.79345227, 50.15782391, 50.15196891, 50.03119861, 50.14490054,\n",
              "       49.98169982, 50.16745925, 50.08316258, 50.01865631, 50.10065124,\n",
              "       49.87842306, 49.8924632 , 50.15566643, 50.05754027, 49.9937882 ,\n",
              "       49.96854614, 50.00157365, 50.00598693, 50.11631358, 49.95530271,\n",
              "       50.27538963, 50.44713557, 50.01975528, 50.26174935, 50.26785725,\n",
              "       50.02831309, 49.87010857, 50.23385446, 49.76317875, 49.80163786,\n",
              "       49.95703185, 50.0011717 , 49.86480368, 49.93051736, 49.48138838,\n",
              "       49.78914063, 50.07061105, 50.05814744, 49.99200729, 49.90230075,\n",
              "       49.87445161, 50.43475447, 50.08528269, 49.66439206, 50.18618992,\n",
              "       50.05953388, 50.12837831, 49.93102924, 49.91339303, 49.68939316,\n",
              "       49.79294571, 49.65845241, 50.29561901, 50.24212186, 49.70158792,\n",
              "       49.87318786, 49.62818075, 50.04084798, 49.84028854, 49.77447264,\n",
              "       50.14029663, 49.81473077, 49.78292655, 50.28871626, 50.02946997,\n",
              "       49.8671599 , 49.69860427, 50.10810257, 50.06803665, 49.87661106,\n",
              "       50.03168656, 49.74213427, 49.84509032, 50.20652898, 49.95009082,\n",
              "       49.98068072, 50.08853462, 50.11320229, 50.06627844, 49.86783509,\n",
              "       50.28781614, 50.21012278, 49.82308568, 50.11858666, 49.74844416,\n",
              "       50.06628204, 50.55441531, 49.82594741, 49.87928598, 50.36029525,\n",
              "       49.91328639, 50.00823178, 50.43595443, 50.31459024, 49.72610098,\n",
              "       50.08484363, 49.78126424, 50.02775704, 49.92418446, 49.83334139,\n",
              "       50.05209167, 49.81069958, 50.18650444, 50.38284274, 50.41772662,\n",
              "       50.0658854 , 50.00840962, 49.45817161, 49.77976126, 50.06041038,\n",
              "       50.30306277, 49.70302313, 50.02843619, 49.85711937, 49.89979208,\n",
              "       50.00404989, 49.93963342, 49.91321287, 50.16408418, 50.148862  ,\n",
              "       49.9219299 , 49.97238344, 50.15646262, 50.19654554, 50.17128019,\n",
              "       49.82680833, 49.84834518, 49.83418824, 50.37370485, 50.32226299,\n",
              "       49.7482929 , 49.90503581, 50.22110883, 49.95215889, 49.89957097,\n",
              "       49.93294858, 50.27423537, 50.20086104, 49.86619934, 49.92583296,\n",
              "       49.93264044, 50.2221964 , 49.87055499, 49.91955819, 49.64670279,\n",
              "       49.69107559, 49.7058254 , 49.88784502, 49.94237874, 50.18130618,\n",
              "       50.19816614, 49.93236659, 49.92872255, 50.04344503, 49.80707002,\n",
              "       49.80341688, 50.09263913, 49.95814674, 50.24043097, 50.05261865,\n",
              "       49.96335071, 50.16385885, 49.62460652, 50.02366491, 49.87560539,\n",
              "       49.79463734, 49.93680774, 50.11440057, 50.39285781, 50.03693341,\n",
              "       50.15216531, 50.05453785, 49.68500163, 49.78223639, 49.98924787,\n",
              "       50.07729896, 50.01217084, 50.02038921, 49.73575273, 49.82165368,\n",
              "       49.92329706, 50.12440117, 49.95588933, 50.18761805, 49.83061828,\n",
              "       49.98258108, 49.78270121, 50.16879389, 49.6262184 , 50.20619521,\n",
              "       49.83334861, 50.10898643, 49.88435128, 50.35672583, 49.8497566 ,\n",
              "       50.41879205, 50.03604902, 49.6725544 , 49.57805871, 49.8650461 ,\n",
              "       50.17686282, 49.8948146 , 50.1084069 , 49.82912085, 50.24378607,\n",
              "       50.2592383 , 49.97295818, 49.90666395, 50.22690369, 50.03581347,\n",
              "       50.24554844, 49.80761234, 50.05865291, 49.83845734, 49.929748  ,\n",
              "       50.26382823, 50.13899888, 49.89135111, 50.1021127 , 50.16425381,\n",
              "       50.08397059, 50.38029274, 50.05044095, 50.01432041, 50.10532506,\n",
              "       50.16591037, 50.03475436, 49.71607507, 50.01296091, 50.24627131,\n",
              "       49.94205982, 50.06991875, 49.98964412, 49.92360555, 50.11422985,\n",
              "       49.91926285, 50.2170778 , 49.86570134, 50.19747813, 50.35800972,\n",
              "       49.96377893, 50.11061715, 49.92147746, 50.06904339, 49.87403969,\n",
              "       50.24555744, 49.52473072, 50.22655172, 49.9821671 , 49.8946306 ,\n",
              "       50.21039   , 50.07244716, 49.71330026, 49.88227535, 50.13550676,\n",
              "       49.96397763, 50.1122059 , 50.22053478, 50.03054708, 50.2390482 ,\n",
              "       50.53096733, 50.15991805, 50.07156898, 49.6814726 , 49.80288304,\n",
              "       50.08000882, 49.91363325, 49.62589438, 50.2150895 , 49.93367415,\n",
              "       50.1866712 , 50.12180421, 50.00405239, 50.00538637, 50.44321925,\n",
              "       49.81866829, 50.26030628, 50.13761507, 49.86501542, 50.11328036,\n",
              "       50.19748794, 49.8920677 , 50.12765819, 49.88527835, 50.24111975,\n",
              "       49.94403439, 49.85622686, 50.39832376, 50.01615968, 50.04653034,\n",
              "       49.54698777, 50.15063257, 49.95170587, 49.88550945, 50.16030119,\n",
              "       50.1049246 , 50.03867396, 50.13053526, 49.74601655, 50.15955524,\n",
              "       50.17575034, 50.07226434, 49.70376009, 50.08094303, 50.43080726,\n",
              "       50.38498135, 49.96831105, 50.1868367 , 50.29906971, 50.25098941,\n",
              "       50.22539666, 49.66570052, 50.28313601, 50.26519426, 50.45694178,\n",
              "       49.94533272, 49.77208555, 50.55499402, 49.8905888 , 49.69768252,\n",
              "       49.96844187, 49.73647041, 49.82076072, 49.99118757, 49.90223825,\n",
              "       50.13619465, 49.91695426, 50.08961376, 50.11792214, 50.34151863,\n",
              "       50.27957483, 50.117633  , 50.29185612, 49.94168301, 49.75731266,\n",
              "       49.88683541, 50.28426202, 49.91402959, 50.41221583, 50.27752958,\n",
              "       50.37347385, 49.88610038, 50.06173163, 50.21740017, 50.1580784 ,\n",
              "       49.94263906, 50.38529501, 49.94249273, 49.98416022, 49.74111052,\n",
              "       49.84696115, 49.83307801, 49.83194861, 50.25685479, 50.0984344 ,\n",
              "       50.01782674, 50.07289853, 49.74609091, 50.05882814, 50.09913704,\n",
              "       49.95731425, 49.84699718, 49.84027548, 50.22946819, 50.32938006,\n",
              "       50.22164077, 49.92185667, 49.88853227, 49.92885175, 49.94433683,\n",
              "       50.24231478, 50.11018893, 50.10005996, 49.84806761, 50.00341784,\n",
              "       49.61619283, 50.04772921, 50.1036683 , 49.73902769, 49.89019054,\n",
              "       50.00644044, 50.03193485, 49.92123987, 49.90281614, 49.77064013,\n",
              "       50.03791049, 50.27504501, 49.76604929, 49.83804062, 49.87956216,\n",
              "       49.78902533, 50.06252659, 50.28838125, 49.93207826, 49.79002435,\n",
              "       49.69048052, 49.97335009, 49.62764626, 49.77190787, 49.99154627,\n",
              "       50.13215386, 50.18874023, 50.05583117, 49.81485993, 50.50773274,\n",
              "       49.46329715, 50.0660929 , 50.21772468, 49.87607606, 50.20629707,\n",
              "       49.60166639, 50.24652855, 49.96924761, 49.93470655, 50.06458546,\n",
              "       50.18260543, 50.18046165, 50.14974128, 49.93084522, 50.0115938 ,\n",
              "       49.5516196 , 49.92663248, 50.30572352, 50.28646413, 49.9550474 ,\n",
              "       49.97155836, 50.07248738, 49.97883488, 50.25759639, 50.00577561,\n",
              "       50.0789956 , 50.07429003, 49.99792135, 49.96301819, 49.75142355,\n",
              "       49.79267102, 50.16226154, 49.85905776, 50.39471527, 49.85710855,\n",
              "       50.18802681, 49.9915162 , 50.31401416, 50.24310674, 49.95416649,\n",
              "       50.0085612 , 49.82456572, 49.58094636, 50.14897058, 50.00237394,\n",
              "       49.96135578, 49.87379951, 49.77033587, 49.67756209, 49.92135705,\n",
              "       49.91389377, 49.92287591, 50.05450982, 49.69831761, 49.71436894,\n",
              "       49.99314846, 49.817192  , 50.02134891, 50.43793869, 49.76213373,\n",
              "       49.92775275, 50.06594585, 49.66474022, 49.91043947, 50.28333902,\n",
              "       50.03612196, 50.40839876, 49.92526333, 50.19288239, 49.8337491 ,\n",
              "       50.1356168 , 49.99548917, 50.04203998, 49.86056475, 50.21730945,\n",
              "       49.96913399, 50.33733308, 50.01746372, 49.92599734, 49.75600085,\n",
              "       50.01756592, 50.42071679, 50.04759631, 50.01949288, 49.95709186,\n",
              "       50.3778491 , 49.88689842, 50.21142898, 49.95142699, 49.93078931,\n",
              "       50.14093202, 50.05331905, 49.9876491 , 49.9867864 , 49.76488498,\n",
              "       49.92332303, 50.3708161 , 50.11649292, 49.8813355 , 49.86793498,\n",
              "       49.38110644, 49.94740112, 50.20906247, 50.26690554, 50.42966125,\n",
              "       50.19953911, 50.08024907, 49.81528339, 49.8091209 , 49.62513558,\n",
              "       50.07405533, 50.00659676, 50.28729576, 49.93348331, 50.26736761,\n",
              "       50.3512548 , 50.1597442 , 49.81646967, 50.01500649, 49.99109393,\n",
              "       49.86966816, 49.81865376, 49.86265296, 49.85003924, 49.62168887,\n",
              "       49.99366842, 49.87502356, 50.38830504, 50.16029718, 50.14102806,\n",
              "       49.88877235, 50.02020858, 50.08079501, 49.98742437, 50.28280097,\n",
              "       50.12129661, 50.11086958, 49.78718546, 50.2029278 , 50.18269521,\n",
              "       50.52835235, 50.0576431 , 50.03318838, 49.7446609 , 50.37759687,\n",
              "       49.70949304, 50.61940781, 49.91478318, 49.92836798, 49.9717545 ,\n",
              "       49.81666704, 49.56387344, 50.03915324, 49.61077826, 50.12514189,\n",
              "       49.94961062, 50.10925198, 49.87790898, 49.71706283, 50.09629429,\n",
              "       50.07635608, 49.92506845, 49.86902929, 50.16454307, 49.78705397,\n",
              "       49.94137324, 50.14137843, 49.91409906, 50.43252599, 49.70124583,\n",
              "       50.26463381, 49.60962661, 49.81821616, 50.44824838, 49.94115904,\n",
              "       50.09730765, 50.03429318, 49.84060475, 49.97422556, 50.20390036,\n",
              "       50.10299477, 50.17621787, 49.75591549, 50.02305439, 49.95968134,\n",
              "       50.17190454, 49.44220521, 50.33548401, 49.83352981, 50.11808904,\n",
              "       50.00522521, 49.91194148, 49.93898258, 49.67786852, 49.86322467,\n",
              "       49.94283565, 50.07439123, 49.74330891, 49.93292923, 50.15940856,\n",
              "       49.94216107, 50.1970308 , 50.26839666, 50.13209885, 49.78409886,\n",
              "       49.90124671, 49.93210812, 50.08400124, 50.1222904 , 50.26248438,\n",
              "       49.99615537, 50.02093793, 50.17145219, 49.96788098, 50.00317802,\n",
              "       50.21968111, 50.20411244, 49.516951  , 50.14020753, 50.63485637,\n",
              "       49.90043616, 50.14983549, 49.85581621, 50.16573989, 50.02241603,\n",
              "       49.75003876, 50.00724617, 49.88695773, 49.68543847, 50.08028729,\n",
              "       50.15392   , 49.73793466, 50.44261591, 49.81559952, 49.90372083,\n",
              "       49.51019787, 50.16405809, 49.95299661, 49.98978585, 50.0365066 ,\n",
              "       49.77469436, 50.19098355, 49.83274405, 50.16370178, 49.85391397,\n",
              "       50.17642861, 49.82540413, 49.92507764, 50.06380226, 49.92677797,\n",
              "       49.49816379, 49.71118853, 49.86844764, 49.7917063 , 50.03366008,\n",
              "       50.26705129, 49.88767233, 50.15272966, 50.00693539, 49.82032334,\n",
              "       49.92151282, 49.96319983, 49.84120153, 49.88171785, 49.81631437,\n",
              "       50.02669935, 49.91087311, 49.8828897 , 49.67306638, 50.24913829,\n",
              "       49.80781864, 50.31157008, 49.39746905, 49.61186954, 50.11515316,\n",
              "       50.14000631, 49.82926593, 50.2195507 , 50.05357614, 50.06534765,\n",
              "       50.25959708, 49.64973714, 49.88625515, 50.15792622, 50.03916679,\n",
              "       49.95537332, 50.03845701, 50.02363814, 50.06941691, 49.93604473,\n",
              "       50.00348015, 49.79873184, 49.9360921 , 49.84765473, 49.93820005,\n",
              "       50.30614598, 50.04822986, 50.16998976, 49.7714318 , 50.06969396,\n",
              "       49.942534  , 49.92042065, 50.22311267, 50.34460631, 49.7366474 ,\n",
              "       49.77271981, 50.25286117, 49.82764678, 50.08216522, 49.87707218,\n",
              "       50.21996354, 50.13425105, 50.34015047, 50.33923869, 49.95905   ,\n",
              "       49.78606494, 50.04777529, 50.09462473, 49.94625815, 49.92283366,\n",
              "       50.41062082, 50.05144025, 50.28884032, 49.96453519, 49.82192162,\n",
              "       50.12241889, 49.99459922, 49.99034152, 49.88998351, 49.33753188,\n",
              "       49.8918793 , 49.97864792, 49.91485948, 50.08228517, 50.21388637,\n",
              "       50.13706262, 50.28181458, 49.97396644, 49.95872396, 49.95475662,\n",
              "       50.09265883, 50.01342393, 49.98310164, 49.83839885, 50.06900758,\n",
              "       50.35386983, 50.0557495 , 50.13339411, 50.04378477, 50.10730329,\n",
              "       50.30318612, 50.20648296, 49.80468684, 50.02317899, 50.01499879,\n",
              "       50.05489294, 49.85031087, 50.34768814, 50.33190655, 49.74095439,\n",
              "       50.1100797 , 49.97739032, 50.00105116, 49.85259687, 49.96640995,\n",
              "       49.99885952, 49.9024445 , 49.73689793, 50.13143307, 49.97847611,\n",
              "       49.91501689, 50.0221062 , 49.74087572, 49.92411433, 49.52300679,\n",
              "       50.07606142, 49.81673533, 50.09413855, 49.91406257, 50.1644555 ,\n",
              "       50.01035149, 50.20436413, 49.874919  , 50.09650251, 49.71736476,\n",
              "       49.95188227, 49.96504822, 49.87784466, 49.98644605, 50.03510502,\n",
              "       49.69313043, 50.33531499, 50.00636618, 49.89320521, 49.96191058,\n",
              "       50.38184016, 50.10150533, 49.81662399, 50.31643083, 49.91362343,\n",
              "       50.17590738, 50.40426375, 49.71048449, 49.39599087, 49.95254046,\n",
              "       50.08232091, 49.86416223, 50.34671247, 50.27207762, 49.86034564,\n",
              "       50.19966325, 50.08208531, 49.74325277, 50.00626994, 50.05425882])"
            ]
          },
          "metadata": {},
          "execution_count": 194
        }
      ]
    },
    {
      "cell_type": "markdown",
      "source": [
        "## Question 15"
      ],
      "metadata": {
        "id": "Xp9uTCj0dzNs"
      }
    },
    {
      "cell_type": "code",
      "source": [
        "arr1 = np.array([1,2,3,4,5])\n",
        "arr2 = np.flip(arr1) #its arr1 but in reverse order\n",
        "\n",
        "#the correct syntax is 1:\n",
        "np.add(arr1,arr2)"
      ],
      "metadata": {
        "colab": {
          "base_uri": "https://localhost:8080/"
        },
        "id": "gLD73XhGd1BR",
        "outputId": "052309b6-799b-46fb-ea39-6308fdf7d41a"
      },
      "execution_count": null,
      "outputs": [
        {
          "output_type": "execute_result",
          "data": {
            "text/plain": [
              "array([6, 6, 6, 6, 6])"
            ]
          },
          "metadata": {},
          "execution_count": 204
        }
      ]
    },
    {
      "cell_type": "markdown",
      "source": [
        "## Question 16"
      ],
      "metadata": {
        "id": "jkn5Ti6keiyk"
      }
    },
    {
      "cell_type": "code",
      "source": [
        "#the closest answer to the correct syntax is 4:\n",
        "#there is no np.substract but there is np.subtract (there is no s after sub)\n",
        "np.subtract(arr1,arr2)"
      ],
      "metadata": {
        "colab": {
          "base_uri": "https://localhost:8080/"
        },
        "id": "j_WyUrTzelj7",
        "outputId": "26fcde6b-c069-41ed-bbe7-4dd18279816b"
      },
      "execution_count": null,
      "outputs": [
        {
          "output_type": "execute_result",
          "data": {
            "text/plain": [
              "array([-4, -2,  0,  2,  4])"
            ]
          },
          "metadata": {},
          "execution_count": 206
        }
      ]
    },
    {
      "cell_type": "markdown",
      "source": [
        "## Question 17"
      ],
      "metadata": {
        "id": "rk1gowlcexdT"
      }
    },
    {
      "cell_type": "code",
      "source": [
        "some_array = np.random.uniform(1,10, size = 5) #an array of random floats\n",
        "#the correct answer is 3, all of them are rounding methods in numpy:\n",
        "print(np.fix(some_array))\n",
        "print(np.trunc(some_array))\n",
        "#however we can notice that the way the decimals were rounded is slightly different with round\n",
        "print(np.round(some_array))"
      ],
      "metadata": {
        "colab": {
          "base_uri": "https://localhost:8080/"
        },
        "id": "nISXKNtFey7w",
        "outputId": "043aedb0-716e-4695-db17-f916818c1c3f"
      },
      "execution_count": null,
      "outputs": [
        {
          "output_type": "stream",
          "name": "stdout",
          "text": [
            "[8. 9. 5. 8. 9.]\n",
            "[8. 9. 5. 8. 9.]\n",
            "[ 8. 10.  6.  9.  9.]\n"
          ]
        }
      ]
    },
    {
      "cell_type": "markdown",
      "source": [
        "## Question 18"
      ],
      "metadata": {
        "id": "WjDQq8A1f7m3"
      }
    },
    {
      "cell_type": "code",
      "source": [
        "#the correct answer is 4\n",
        "# the values returned will be as follows:\n",
        "# first value = 1+0 = 1\n",
        "# second value = 2+1 = 3\n",
        "# third value = 1+2+3 = 6\n",
        "arr = np.array([1,2,3])\n",
        "print(np.cumsum(arr))"
      ],
      "metadata": {
        "colab": {
          "base_uri": "https://localhost:8080/"
        },
        "id": "F37F27Rbf9Qm",
        "outputId": "43047b51-5eb1-4595-fbe7-4cf55324dfe6"
      },
      "execution_count": null,
      "outputs": [
        {
          "output_type": "stream",
          "name": "stdout",
          "text": [
            "[1 3 6]\n"
          ]
        }
      ]
    },
    {
      "cell_type": "markdown",
      "source": [
        "## Question 19"
      ],
      "metadata": {
        "id": "nW95i3LwgV2f"
      }
    },
    {
      "cell_type": "code",
      "source": [
        "#the correct answer is 1\n",
        "import pandas as pd\n",
        "mylist = [1,2,3,4,5,6,7,8,9,10]\n",
        "pd.Series(mylist)"
      ],
      "metadata": {
        "colab": {
          "base_uri": "https://localhost:8080/"
        },
        "id": "U1nll7RWgYM0",
        "outputId": "8e684621-6aed-42fa-bd1b-c9325ba6c6b0"
      },
      "execution_count": null,
      "outputs": [
        {
          "output_type": "execute_result",
          "data": {
            "text/plain": [
              "0     1\n",
              "1     2\n",
              "2     3\n",
              "3     4\n",
              "4     5\n",
              "5     6\n",
              "6     7\n",
              "7     8\n",
              "8     9\n",
              "9    10\n",
              "dtype: int64"
            ]
          },
          "metadata": {},
          "execution_count": 218
        }
      ]
    }
  ]
}